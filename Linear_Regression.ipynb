{
 "cells": [
  {
   "cell_type": "markdown",
   "metadata": {},
   "source": [
    "# Assignment 2"
   ]
  },
  {
   "cell_type": "markdown",
   "metadata": {},
   "source": [
    "In this Assignment, you will explore the **FIFA 19** dataset, which contains detailed attributes for every player registered in the latest edition of FIFA 19 database.    \n",
    "It was scrapped from this [website](https://sofifa.com/), and you can find the source code [here](https://github.com/amanthedorkknight/fifa18-all-player-statistics/tree/master/2019).\n",
    "\n",
    "Your goal is to find out how the `Overall` score by player is calculated\n",
    "\n",
    "There are 2 main parts:\n",
    "\n",
    "* Data Import & Cleaning, the output of this part is provided in the csv file `Assignment_2_data_cleaned`, **so you do not need to have everything right in this part to do the second one**\n",
    "* Modeling with the cleaned data"
   ]
  },
  {
   "cell_type": "markdown",
   "metadata": {},
   "source": [
    "In the notebook, there will be cells in the form `assert condition` like the next one. They are used to check if an answer is correct.  \n",
    "Execute the next one and you will get no errors"
   ]
  },
  {
   "cell_type": "code",
   "execution_count": 1,
   "metadata": {},
   "outputs": [],
   "source": [
    "assert 3 < 5"
   ]
  },
  {
   "cell_type": "markdown",
   "metadata": {},
   "source": [
    "Execute the next one and you will get an error"
   ]
  },
  {
   "cell_type": "code",
   "execution_count": 2,
   "metadata": {},
   "outputs": [],
   "source": [
    "#assert 3 > 5"
   ]
  },
  {
   "cell_type": "markdown",
   "metadata": {},
   "source": [
    "# Data Import"
   ]
  },
  {
   "cell_type": "code",
   "execution_count": 3,
   "metadata": {},
   "outputs": [],
   "source": [
    "import pandas as pd\n",
    "import numpy as np\n",
    "import matplotlib.pyplot as plt\n",
    "%matplotlib inline"
   ]
  },
  {
   "cell_type": "markdown",
   "metadata": {},
   "source": [
    "1.1. Load the csv file `data.csv` into a dataframe called `df` and print its shape. (Set the right parameters when reading the csv file)       "
   ]
  },
  {
   "cell_type": "code",
   "execution_count": 4,
   "metadata": {},
   "outputs": [
    {
     "name": "stdout",
     "output_type": "stream",
     "text": [
      "(18207, 88)\n"
     ]
    }
   ],
   "source": [
    "df = pd.read_csv(\"Assignment_2_data.csv\")\n",
    "#print(df.info())\n",
    "#first column useless we need to drop it\n",
    "\n",
    "df.drop(\"Unnamed: 0\",axis=1,inplace=True)\n",
    "print(df.shape)"
   ]
  },
  {
   "cell_type": "code",
   "execution_count": 5,
   "metadata": {},
   "outputs": [],
   "source": [
    "# check if your answer is correct\n",
    "assert df.shape == (18207, 88)"
   ]
  },
  {
   "cell_type": "markdown",
   "metadata": {},
   "source": [
    "1.2. print the head of `df`"
   ]
  },
  {
   "cell_type": "code",
   "execution_count": 6,
   "metadata": {},
   "outputs": [
    {
     "name": "stdout",
     "output_type": "stream",
     "text": [
      "<bound method NDFrame.head of            ID                  Name  Age  \\\n",
      "0      158023              L. Messi   31   \n",
      "1       20801     Cristiano Ronaldo   33   \n",
      "2      190871             Neymar Jr   26   \n",
      "3      193080                De Gea   27   \n",
      "4      192985          K. De Bruyne   27   \n",
      "5      183277             E. Hazard   27   \n",
      "6      177003             L. Modrić   32   \n",
      "7      176580             L. Suárez   31   \n",
      "8      155862          Sergio Ramos   32   \n",
      "9      200389              J. Oblak   25   \n",
      "10     188545        R. Lewandowski   29   \n",
      "11     182521              T. Kroos   28   \n",
      "12     182493              D. Godín   32   \n",
      "13     168542           David Silva   32   \n",
      "14     215914              N. Kanté   27   \n",
      "15     211110             P. Dybala   24   \n",
      "16     202126               H. Kane   24   \n",
      "17     194765          A. Griezmann   27   \n",
      "18     192448         M. ter Stegen   26   \n",
      "19     192119           T. Courtois   26   \n",
      "20     189511       Sergio Busquets   29   \n",
      "21     179813             E. Cavani   31   \n",
      "22     167495              M. Neuer   32   \n",
      "23     153079             S. Agüero   30   \n",
      "24     138956          G. Chiellini   33   \n",
      "25     231747             K. Mbappé   19   \n",
      "26     209331              M. Salah   26   \n",
      "27     200145              Casemiro   26   \n",
      "28     198710          J. Rodríguez   26   \n",
      "29     198219            L. Insigne   27   \n",
      "...       ...                   ...  ...   \n",
      "18177  238550             R. Roache   18   \n",
      "18178  243158          L. Wahlstedt   18   \n",
      "18179  246243           J. Williams   17   \n",
      "18180  221669              M. Hurst   22   \n",
      "18181  245734              C. Maher   17   \n",
      "18182  246001               Y. Góez   18   \n",
      "18183   53748         K. Pilkington   44   \n",
      "18184  241657             D. Horton   18   \n",
      "18185  243961              E. Tweed   19   \n",
      "18186  240917          Zhang Yufeng   20   \n",
      "18187  240158             C. Ehlich   19   \n",
      "18188  240927            L. Collins   17   \n",
      "18189  240160            A. Kaltner   18   \n",
      "18190  245569            L. Watkins   18   \n",
      "18191  245570  J. Norville-Williams   18   \n",
      "18192  245571             S. Squire   18   \n",
      "18193  244823            N. Fuentes   18   \n",
      "18194  245862              J. Milli   18   \n",
      "18195  243582            S. Griffin   18   \n",
      "18196  238477           K. Fujikawa   19   \n",
      "18197  246167            D. Holland   18   \n",
      "18198  242844            J. Livesey   18   \n",
      "18199  244677          M. Baldisimo   18   \n",
      "18200  231381              J. Young   18   \n",
      "18201  243413              D. Walsh   18   \n",
      "18202  238813          J. Lundstram   19   \n",
      "18203  243165    N. Christoffersson   19   \n",
      "18204  241638             B. Worman   16   \n",
      "18205  246268        D. Walker-Rice   17   \n",
      "18206  246269             G. Nugent   16   \n",
      "\n",
      "                                                Photo          Nationality  \\\n",
      "0      https://cdn.sofifa.org/players/4/19/158023.png            Argentina   \n",
      "1       https://cdn.sofifa.org/players/4/19/20801.png             Portugal   \n",
      "2      https://cdn.sofifa.org/players/4/19/190871.png               Brazil   \n",
      "3      https://cdn.sofifa.org/players/4/19/193080.png                Spain   \n",
      "4      https://cdn.sofifa.org/players/4/19/192985.png              Belgium   \n",
      "5      https://cdn.sofifa.org/players/4/19/183277.png              Belgium   \n",
      "6      https://cdn.sofifa.org/players/4/19/177003.png              Croatia   \n",
      "7      https://cdn.sofifa.org/players/4/19/176580.png              Uruguay   \n",
      "8      https://cdn.sofifa.org/players/4/19/155862.png                Spain   \n",
      "9      https://cdn.sofifa.org/players/4/19/200389.png             Slovenia   \n",
      "10     https://cdn.sofifa.org/players/4/19/188545.png               Poland   \n",
      "11     https://cdn.sofifa.org/players/4/19/182521.png              Germany   \n",
      "12     https://cdn.sofifa.org/players/4/19/182493.png              Uruguay   \n",
      "13     https://cdn.sofifa.org/players/4/19/168542.png                Spain   \n",
      "14     https://cdn.sofifa.org/players/4/19/215914.png               France   \n",
      "15     https://cdn.sofifa.org/players/4/19/211110.png            Argentina   \n",
      "16     https://cdn.sofifa.org/players/4/19/202126.png              England   \n",
      "17     https://cdn.sofifa.org/players/4/19/194765.png               France   \n",
      "18     https://cdn.sofifa.org/players/4/19/192448.png              Germany   \n",
      "19     https://cdn.sofifa.org/players/4/19/192119.png              Belgium   \n",
      "20     https://cdn.sofifa.org/players/4/19/189511.png                Spain   \n",
      "21     https://cdn.sofifa.org/players/4/19/179813.png              Uruguay   \n",
      "22     https://cdn.sofifa.org/players/4/19/167495.png              Germany   \n",
      "23     https://cdn.sofifa.org/players/4/19/153079.png            Argentina   \n",
      "24     https://cdn.sofifa.org/players/4/19/138956.png                Italy   \n",
      "25     https://cdn.sofifa.org/players/4/19/231747.png               France   \n",
      "26     https://cdn.sofifa.org/players/4/19/209331.png                Egypt   \n",
      "27     https://cdn.sofifa.org/players/4/19/200145.png               Brazil   \n",
      "28     https://cdn.sofifa.org/players/4/19/198710.png             Colombia   \n",
      "29     https://cdn.sofifa.org/players/4/19/198219.png                Italy   \n",
      "...                                               ...                  ...   \n",
      "18177  https://cdn.sofifa.org/players/4/19/238550.png  Republic of Ireland   \n",
      "18178  https://cdn.sofifa.org/players/4/19/243158.png               Sweden   \n",
      "18179  https://cdn.sofifa.org/players/4/19/246243.png              England   \n",
      "18180  https://cdn.sofifa.org/players/4/19/221669.png             Scotland   \n",
      "18181  https://cdn.sofifa.org/players/4/19/245734.png  Republic of Ireland   \n",
      "18182  https://cdn.sofifa.org/players/4/19/246001.png             Colombia   \n",
      "18183   https://cdn.sofifa.org/players/4/19/53748.png              England   \n",
      "18184  https://cdn.sofifa.org/players/4/19/241657.png              England   \n",
      "18185  https://cdn.sofifa.org/players/4/19/243961.png  Republic of Ireland   \n",
      "18186  https://cdn.sofifa.org/players/4/19/240917.png             China PR   \n",
      "18187  https://cdn.sofifa.org/players/4/19/240158.png              Germany   \n",
      "18188  https://cdn.sofifa.org/players/4/19/240927.png                Wales   \n",
      "18189  https://cdn.sofifa.org/players/4/19/240160.png              Germany   \n",
      "18190  https://cdn.sofifa.org/players/4/19/245569.png              England   \n",
      "18191  https://cdn.sofifa.org/players/4/19/245570.png              England   \n",
      "18192  https://cdn.sofifa.org/players/4/19/245571.png              England   \n",
      "18193  https://cdn.sofifa.org/players/4/19/244823.png                Chile   \n",
      "18194  https://cdn.sofifa.org/players/4/19/245862.png                Italy   \n",
      "18195  https://cdn.sofifa.org/players/4/19/243582.png  Republic of Ireland   \n",
      "18196  https://cdn.sofifa.org/players/4/19/238477.png                Japan   \n",
      "18197  https://cdn.sofifa.org/players/4/19/246167.png  Republic of Ireland   \n",
      "18198  https://cdn.sofifa.org/players/4/19/242844.png              England   \n",
      "18199  https://cdn.sofifa.org/players/4/19/244677.png               Canada   \n",
      "18200  https://cdn.sofifa.org/players/4/19/231381.png             Scotland   \n",
      "18201  https://cdn.sofifa.org/players/4/19/243413.png  Republic of Ireland   \n",
      "18202  https://cdn.sofifa.org/players/4/19/238813.png              England   \n",
      "18203  https://cdn.sofifa.org/players/4/19/243165.png               Sweden   \n",
      "18204  https://cdn.sofifa.org/players/4/19/241638.png              England   \n",
      "18205  https://cdn.sofifa.org/players/4/19/246268.png              England   \n",
      "18206  https://cdn.sofifa.org/players/4/19/246269.png              England   \n",
      "\n",
      "                                       Flag  Overall  Potential  \\\n",
      "0       https://cdn.sofifa.org/flags/52.png       94         94   \n",
      "1       https://cdn.sofifa.org/flags/38.png       94         94   \n",
      "2       https://cdn.sofifa.org/flags/54.png       92         93   \n",
      "3       https://cdn.sofifa.org/flags/45.png       91         93   \n",
      "4        https://cdn.sofifa.org/flags/7.png       91         92   \n",
      "5        https://cdn.sofifa.org/flags/7.png       91         91   \n",
      "6       https://cdn.sofifa.org/flags/10.png       91         91   \n",
      "7       https://cdn.sofifa.org/flags/60.png       91         91   \n",
      "8       https://cdn.sofifa.org/flags/45.png       91         91   \n",
      "9       https://cdn.sofifa.org/flags/44.png       90         93   \n",
      "10      https://cdn.sofifa.org/flags/37.png       90         90   \n",
      "11      https://cdn.sofifa.org/flags/21.png       90         90   \n",
      "12      https://cdn.sofifa.org/flags/60.png       90         90   \n",
      "13      https://cdn.sofifa.org/flags/45.png       90         90   \n",
      "14      https://cdn.sofifa.org/flags/18.png       89         90   \n",
      "15      https://cdn.sofifa.org/flags/52.png       89         94   \n",
      "16      https://cdn.sofifa.org/flags/14.png       89         91   \n",
      "17      https://cdn.sofifa.org/flags/18.png       89         90   \n",
      "18      https://cdn.sofifa.org/flags/21.png       89         92   \n",
      "19       https://cdn.sofifa.org/flags/7.png       89         90   \n",
      "20      https://cdn.sofifa.org/flags/45.png       89         89   \n",
      "21      https://cdn.sofifa.org/flags/60.png       89         89   \n",
      "22      https://cdn.sofifa.org/flags/21.png       89         89   \n",
      "23      https://cdn.sofifa.org/flags/52.png       89         89   \n",
      "24      https://cdn.sofifa.org/flags/27.png       89         89   \n",
      "25      https://cdn.sofifa.org/flags/18.png       88         95   \n",
      "26     https://cdn.sofifa.org/flags/111.png       88         89   \n",
      "27      https://cdn.sofifa.org/flags/54.png       88         90   \n",
      "28      https://cdn.sofifa.org/flags/56.png       88         89   \n",
      "29      https://cdn.sofifa.org/flags/27.png       88         88   \n",
      "...                                     ...      ...        ...   \n",
      "18177   https://cdn.sofifa.org/flags/25.png       48         69   \n",
      "18178   https://cdn.sofifa.org/flags/46.png       48         65   \n",
      "18179   https://cdn.sofifa.org/flags/14.png       48         64   \n",
      "18180   https://cdn.sofifa.org/flags/42.png       48         58   \n",
      "18181   https://cdn.sofifa.org/flags/25.png       48         66   \n",
      "18182   https://cdn.sofifa.org/flags/56.png       48         65   \n",
      "18183   https://cdn.sofifa.org/flags/14.png       48         48   \n",
      "18184   https://cdn.sofifa.org/flags/14.png       48         55   \n",
      "18185   https://cdn.sofifa.org/flags/25.png       48         59   \n",
      "18186  https://cdn.sofifa.org/flags/155.png       47         64   \n",
      "18187   https://cdn.sofifa.org/flags/21.png       47         59   \n",
      "18188   https://cdn.sofifa.org/flags/50.png       47         62   \n",
      "18189   https://cdn.sofifa.org/flags/21.png       47         61   \n",
      "18190   https://cdn.sofifa.org/flags/14.png       47         67   \n",
      "18191   https://cdn.sofifa.org/flags/14.png       47         65   \n",
      "18192   https://cdn.sofifa.org/flags/14.png       47         64   \n",
      "18193   https://cdn.sofifa.org/flags/55.png       47         64   \n",
      "18194   https://cdn.sofifa.org/flags/27.png       47         65   \n",
      "18195   https://cdn.sofifa.org/flags/25.png       47         67   \n",
      "18196  https://cdn.sofifa.org/flags/163.png       47         61   \n",
      "18197   https://cdn.sofifa.org/flags/25.png       47         61   \n",
      "18198   https://cdn.sofifa.org/flags/14.png       47         70   \n",
      "18199   https://cdn.sofifa.org/flags/70.png       47         69   \n",
      "18200   https://cdn.sofifa.org/flags/42.png       47         62   \n",
      "18201   https://cdn.sofifa.org/flags/25.png       47         68   \n",
      "18202   https://cdn.sofifa.org/flags/14.png       47         65   \n",
      "18203   https://cdn.sofifa.org/flags/46.png       47         63   \n",
      "18204   https://cdn.sofifa.org/flags/14.png       47         67   \n",
      "18205   https://cdn.sofifa.org/flags/14.png       47         66   \n",
      "18206   https://cdn.sofifa.org/flags/14.png       46         66   \n",
      "\n",
      "                         Club  \\\n",
      "0                FC Barcelona   \n",
      "1                    Juventus   \n",
      "2         Paris Saint-Germain   \n",
      "3           Manchester United   \n",
      "4             Manchester City   \n",
      "5                     Chelsea   \n",
      "6                 Real Madrid   \n",
      "7                FC Barcelona   \n",
      "8                 Real Madrid   \n",
      "9             Atlético Madrid   \n",
      "10          FC Bayern München   \n",
      "11                Real Madrid   \n",
      "12            Atlético Madrid   \n",
      "13            Manchester City   \n",
      "14                    Chelsea   \n",
      "15                   Juventus   \n",
      "16          Tottenham Hotspur   \n",
      "17            Atlético Madrid   \n",
      "18               FC Barcelona   \n",
      "19                Real Madrid   \n",
      "20               FC Barcelona   \n",
      "21        Paris Saint-Germain   \n",
      "22          FC Bayern München   \n",
      "23            Manchester City   \n",
      "24                   Juventus   \n",
      "25        Paris Saint-Germain   \n",
      "26                  Liverpool   \n",
      "27                Real Madrid   \n",
      "28          FC Bayern München   \n",
      "29                     Napoli   \n",
      "...                       ...   \n",
      "18177               Blackpool   \n",
      "18178              Dalkurd FF   \n",
      "18179        Northampton Town   \n",
      "18180        St. Johnstone FC   \n",
      "18181          Bray Wanderers   \n",
      "18182       Atlético Nacional   \n",
      "18183        Cambridge United   \n",
      "18184            Lincoln City   \n",
      "18185              Derry City   \n",
      "18186        Beijing Renhe FC   \n",
      "18187      SpVgg Unterhaching   \n",
      "18188          Newport County   \n",
      "18189      SpVgg Unterhaching   \n",
      "18190        Cambridge United   \n",
      "18191        Cambridge United   \n",
      "18192        Cambridge United   \n",
      "18193          Unión Española   \n",
      "18194                   Lecce   \n",
      "18195            Waterford FC   \n",
      "18196            Júbilo Iwata   \n",
      "18197               Cork City   \n",
      "18198           Burton Albion   \n",
      "18199  Vancouver Whitecaps FC   \n",
      "18200            Swindon Town   \n",
      "18201            Waterford FC   \n",
      "18202         Crewe Alexandra   \n",
      "18203          Trelleborgs FF   \n",
      "18204        Cambridge United   \n",
      "18205         Tranmere Rovers   \n",
      "18206         Tranmere Rovers   \n",
      "\n",
      "                                             Club Logo      ...        \\\n",
      "0         https://cdn.sofifa.org/teams/2/light/241.png      ...         \n",
      "1          https://cdn.sofifa.org/teams/2/light/45.png      ...         \n",
      "2          https://cdn.sofifa.org/teams/2/light/73.png      ...         \n",
      "3          https://cdn.sofifa.org/teams/2/light/11.png      ...         \n",
      "4          https://cdn.sofifa.org/teams/2/light/10.png      ...         \n",
      "5           https://cdn.sofifa.org/teams/2/light/5.png      ...         \n",
      "6         https://cdn.sofifa.org/teams/2/light/243.png      ...         \n",
      "7         https://cdn.sofifa.org/teams/2/light/241.png      ...         \n",
      "8         https://cdn.sofifa.org/teams/2/light/243.png      ...         \n",
      "9         https://cdn.sofifa.org/teams/2/light/240.png      ...         \n",
      "10         https://cdn.sofifa.org/teams/2/light/21.png      ...         \n",
      "11        https://cdn.sofifa.org/teams/2/light/243.png      ...         \n",
      "12        https://cdn.sofifa.org/teams/2/light/240.png      ...         \n",
      "13         https://cdn.sofifa.org/teams/2/light/10.png      ...         \n",
      "14          https://cdn.sofifa.org/teams/2/light/5.png      ...         \n",
      "15         https://cdn.sofifa.org/teams/2/light/45.png      ...         \n",
      "16         https://cdn.sofifa.org/teams/2/light/18.png      ...         \n",
      "17        https://cdn.sofifa.org/teams/2/light/240.png      ...         \n",
      "18        https://cdn.sofifa.org/teams/2/light/241.png      ...         \n",
      "19        https://cdn.sofifa.org/teams/2/light/243.png      ...         \n",
      "20        https://cdn.sofifa.org/teams/2/light/241.png      ...         \n",
      "21         https://cdn.sofifa.org/teams/2/light/73.png      ...         \n",
      "22         https://cdn.sofifa.org/teams/2/light/21.png      ...         \n",
      "23         https://cdn.sofifa.org/teams/2/light/10.png      ...         \n",
      "24         https://cdn.sofifa.org/teams/2/light/45.png      ...         \n",
      "25         https://cdn.sofifa.org/teams/2/light/73.png      ...         \n",
      "26          https://cdn.sofifa.org/teams/2/light/9.png      ...         \n",
      "27        https://cdn.sofifa.org/teams/2/light/243.png      ...         \n",
      "28         https://cdn.sofifa.org/teams/2/light/21.png      ...         \n",
      "29         https://cdn.sofifa.org/teams/2/light/48.png      ...         \n",
      "...                                                ...      ...         \n",
      "18177    https://cdn.sofifa.org/teams/2/light/1926.png      ...         \n",
      "18178  https://cdn.sofifa.org/teams/2/light/113876.png      ...         \n",
      "18179    https://cdn.sofifa.org/teams/2/light/1930.png      ...         \n",
      "18180  https://cdn.sofifa.org/teams/2/light/100804.png      ...         \n",
      "18181     https://cdn.sofifa.org/teams/2/light/838.png      ...         \n",
      "18182  https://cdn.sofifa.org/teams/2/light/101100.png      ...         \n",
      "18183    https://cdn.sofifa.org/teams/2/light/1944.png      ...         \n",
      "18184     https://cdn.sofifa.org/teams/2/light/149.png      ...         \n",
      "18185     https://cdn.sofifa.org/teams/2/light/445.png      ...         \n",
      "18186  https://cdn.sofifa.org/teams/2/light/112537.png      ...         \n",
      "18187     https://cdn.sofifa.org/teams/2/light/172.png      ...         \n",
      "18188  https://cdn.sofifa.org/teams/2/light/112254.png      ...         \n",
      "18189     https://cdn.sofifa.org/teams/2/light/172.png      ...         \n",
      "18190    https://cdn.sofifa.org/teams/2/light/1944.png      ...         \n",
      "18191    https://cdn.sofifa.org/teams/2/light/1944.png      ...         \n",
      "18192    https://cdn.sofifa.org/teams/2/light/1944.png      ...         \n",
      "18193  https://cdn.sofifa.org/teams/2/light/110977.png      ...         \n",
      "18194     https://cdn.sofifa.org/teams/2/light/347.png      ...         \n",
      "18195     https://cdn.sofifa.org/teams/2/light/753.png      ...         \n",
      "18196  https://cdn.sofifa.org/teams/2/light/101144.png      ...         \n",
      "18197     https://cdn.sofifa.org/teams/2/light/422.png      ...         \n",
      "18198   https://cdn.sofifa.org/teams/2/light/15015.png      ...         \n",
      "18199  https://cdn.sofifa.org/teams/2/light/101112.png      ...         \n",
      "18200    https://cdn.sofifa.org/teams/2/light/1934.png      ...         \n",
      "18201     https://cdn.sofifa.org/teams/2/light/753.png      ...         \n",
      "18202     https://cdn.sofifa.org/teams/2/light/121.png      ...         \n",
      "18203     https://cdn.sofifa.org/teams/2/light/703.png      ...         \n",
      "18204    https://cdn.sofifa.org/teams/2/light/1944.png      ...         \n",
      "18205   https://cdn.sofifa.org/teams/2/light/15048.png      ...         \n",
      "18206   https://cdn.sofifa.org/teams/2/light/15048.png      ...         \n",
      "\n",
      "      Composure Marking  StandingTackle SlidingTackle  GKDiving  GKHandling  \\\n",
      "0          96.0    33.0            28.0          26.0       6.0        11.0   \n",
      "1          95.0    28.0            31.0          23.0       7.0        11.0   \n",
      "2          94.0    27.0            24.0          33.0       9.0         9.0   \n",
      "3          68.0    15.0            21.0          13.0      90.0        85.0   \n",
      "4          88.0    68.0            58.0          51.0      15.0        13.0   \n",
      "5          91.0    34.0            27.0          22.0      11.0        12.0   \n",
      "6          84.0    60.0            76.0          73.0      13.0         9.0   \n",
      "7          85.0    62.0            45.0          38.0      27.0        25.0   \n",
      "8          82.0    87.0            92.0          91.0      11.0         8.0   \n",
      "9          70.0    27.0            12.0          18.0      86.0        92.0   \n",
      "10         86.0    34.0            42.0          19.0      15.0         6.0   \n",
      "11         85.0    72.0            79.0          69.0      10.0        11.0   \n",
      "12         82.0    90.0            89.0          89.0       6.0         8.0   \n",
      "13         93.0    59.0            53.0          29.0       6.0        15.0   \n",
      "14         85.0    90.0            91.0          85.0      15.0        12.0   \n",
      "15         84.0    23.0            20.0          20.0       5.0         4.0   \n",
      "16         89.0    56.0            36.0          38.0       8.0        10.0   \n",
      "17         87.0    59.0            47.0          48.0      14.0         8.0   \n",
      "18         69.0    25.0            13.0          10.0      87.0        85.0   \n",
      "19         66.0    20.0            18.0          16.0      85.0        91.0   \n",
      "20         90.0    90.0            86.0          80.0       5.0         8.0   \n",
      "21         82.0    52.0            45.0          39.0      12.0         5.0   \n",
      "22         70.0    17.0            10.0          11.0      90.0        86.0   \n",
      "23         90.0    30.0            20.0          12.0      13.0        15.0   \n",
      "24         84.0    93.0            93.0          90.0       3.0         3.0   \n",
      "25         86.0    34.0            34.0          32.0      13.0         5.0   \n",
      "26         91.0    38.0            43.0          41.0      14.0        14.0   \n",
      "27         84.0    88.0            90.0          87.0      13.0        14.0   \n",
      "28         87.0    52.0            41.0          44.0      15.0        15.0   \n",
      "29         83.0    51.0            24.0          22.0       8.0         4.0   \n",
      "...         ...     ...             ...           ...       ...         ...   \n",
      "18177      49.0    18.0            16.0          11.0       6.0         9.0   \n",
      "18178      28.0    16.0            11.0          10.0      47.0        46.0   \n",
      "18179      37.0    42.0            51.0          49.0      14.0        11.0   \n",
      "18180      28.0    12.0            15.0          16.0      45.0        49.0   \n",
      "18181      38.0    43.0            49.0          45.0       8.0        10.0   \n",
      "18182      38.0    44.0            42.0          46.0       9.0        15.0   \n",
      "18183      56.0    15.0            15.0          13.0      45.0        48.0   \n",
      "18184      42.0    47.0            49.0          53.0      12.0         5.0   \n",
      "18185      43.0    39.0            39.0          48.0       6.0        11.0   \n",
      "18186      39.0    53.0            41.0          51.0      15.0         7.0   \n",
      "18187      47.0    40.0            42.0          42.0      13.0        12.0   \n",
      "18188      46.0    33.0            38.0          41.0       5.0        12.0   \n",
      "18189      37.0    28.0            15.0          22.0      15.0         5.0   \n",
      "18190      46.0    35.0            44.0          47.0      13.0         7.0   \n",
      "18191      36.0    45.0            42.0          46.0      15.0        13.0   \n",
      "18192      38.0    41.0            41.0          44.0      11.0        11.0   \n",
      "18193      32.0    41.0            48.0          48.0       6.0        10.0   \n",
      "18194      23.0     6.0            10.0          11.0      52.0        52.0   \n",
      "18195      41.0    44.0            37.0          48.0      13.0        14.0   \n",
      "18196      35.0    41.0            44.0          54.0      10.0        12.0   \n",
      "18197      52.0    41.0            47.0          38.0      13.0         6.0   \n",
      "18198      34.0    15.0            11.0          13.0      46.0        52.0   \n",
      "18199      40.0    48.0            49.0          49.0       7.0         7.0   \n",
      "18200      50.0    15.0            17.0          14.0      11.0        15.0   \n",
      "18201      43.0    44.0            47.0          53.0       9.0        10.0   \n",
      "18202      45.0    40.0            48.0          47.0      10.0        13.0   \n",
      "18203      42.0    22.0            15.0          19.0      10.0         9.0   \n",
      "18204      41.0    32.0            13.0          11.0       6.0         5.0   \n",
      "18205      46.0    20.0            25.0          27.0      14.0         6.0   \n",
      "18206      43.0    40.0            43.0          50.0      10.0        15.0   \n",
      "\n",
      "       GKKicking GKPositioning GKReflexes Release Clause  \n",
      "0           15.0          14.0        8.0        €226.5M  \n",
      "1           15.0          14.0       11.0        €127.1M  \n",
      "2           15.0          15.0       11.0        €228.1M  \n",
      "3           87.0          88.0       94.0        €138.6M  \n",
      "4            5.0          10.0       13.0        €196.4M  \n",
      "5            6.0           8.0        8.0        €172.1M  \n",
      "6            7.0          14.0        9.0        €137.4M  \n",
      "7           31.0          33.0       37.0          €164M  \n",
      "8            9.0           7.0       11.0        €104.6M  \n",
      "9           78.0          88.0       89.0        €144.5M  \n",
      "10          12.0           8.0       10.0        €127.1M  \n",
      "11          13.0           7.0       10.0        €156.8M  \n",
      "12          15.0           5.0       15.0         €90.2M  \n",
      "13           7.0           6.0       12.0          €111M  \n",
      "14          10.0           7.0       10.0        €121.3M  \n",
      "15           4.0           5.0        8.0        €153.5M  \n",
      "16          11.0          14.0       11.0        €160.7M  \n",
      "17          14.0          13.0       14.0        €165.8M  \n",
      "18          88.0          85.0       90.0        €123.3M  \n",
      "19          72.0          86.0       88.0        €113.7M  \n",
      "20          13.0           9.0       13.0        €105.6M  \n",
      "21          13.0          13.0       10.0          €111M  \n",
      "22          91.0          87.0       87.0         €62.7M  \n",
      "23           6.0          11.0       14.0        €119.3M  \n",
      "24           2.0           4.0        3.0         €44.6M  \n",
      "25           7.0          11.0        6.0        €166.1M  \n",
      "26           9.0          11.0       14.0        €137.3M  \n",
      "27          16.0          12.0       12.0        €126.4M  \n",
      "28          15.0           5.0       14.0            NaN  \n",
      "29          14.0           9.0       10.0        €105.4M  \n",
      "...          ...           ...        ...            ...  \n",
      "18177       11.0           7.0       12.0          €193K  \n",
      "18178       50.0          45.0       51.0           €94K  \n",
      "18179        7.0          11.0        8.0          €119K  \n",
      "18180       50.0          50.0       45.0           €78K  \n",
      "18181       12.0           9.0       10.0          €109K  \n",
      "18182       15.0           8.0        6.0          €101K  \n",
      "18183       44.0          49.0       46.0            NaN  \n",
      "18184       12.0          14.0       15.0           €78K  \n",
      "18185        9.0           5.0        8.0           €88K  \n",
      "18186       14.0           6.0        8.0          €167K  \n",
      "18187       11.0          15.0       12.0           €66K  \n",
      "18188        8.0          13.0       10.0          €143K  \n",
      "18189       14.0          12.0        8.0          €125K  \n",
      "18190       14.0          10.0        8.0          €165K  \n",
      "18191        6.0          14.0       12.0          €119K  \n",
      "18192        8.0          12.0       13.0          €119K  \n",
      "18193        6.0          12.0       11.0           €99K  \n",
      "18194       52.0          40.0       44.0          €109K  \n",
      "18195       12.0           7.0       13.0          €153K  \n",
      "18196        6.0          11.0        8.0          €113K  \n",
      "18197        9.0          10.0       15.0           €88K  \n",
      "18198       58.0          42.0       48.0          €165K  \n",
      "18199        9.0          14.0       15.0          €175K  \n",
      "18200       12.0          12.0       11.0          €143K  \n",
      "18201        9.0          11.0       13.0          €153K  \n",
      "18202        7.0           8.0        9.0          €143K  \n",
      "18203        9.0           5.0       12.0          €113K  \n",
      "18204       10.0           6.0       13.0          €165K  \n",
      "18205       14.0           8.0        9.0          €143K  \n",
      "18206        9.0          12.0        9.0          €165K  \n",
      "\n",
      "[18207 rows x 88 columns]>\n"
     ]
    }
   ],
   "source": [
    "print(df.head)"
   ]
  },
  {
   "cell_type": "markdown",
   "metadata": {},
   "source": [
    "1.3. Print how many columns that are in df columns types"
   ]
  },
  {
   "cell_type": "code",
   "execution_count": 7,
   "metadata": {},
   "outputs": [
    {
     "name": "stdout",
     "output_type": "stream",
     "text": [
      "object\n"
     ]
    }
   ],
   "source": [
    "print(df.columns.dtype)"
   ]
  },
  {
   "cell_type": "markdown",
   "metadata": {},
   "source": [
    "1.4. `to_drop` is a list containing columns that are not useful for modeling, remove them and print the new shape of `df`"
   ]
  },
  {
   "cell_type": "code",
   "execution_count": 8,
   "metadata": {},
   "outputs": [],
   "source": [
    "to_drop =['ID', 'Name', 'Photo','Nationality', 'Flag','Club','Club Logo', 'Real Face', 'Joined', 'Loaned From', 'Contract Valid Until']\n",
    "\n",
    "df.drop(to_drop,axis=1,inplace=True)\n"
   ]
  },
  {
   "cell_type": "code",
   "execution_count": 9,
   "metadata": {},
   "outputs": [],
   "source": [
    "# check if your answer is correct\n",
    "assert df.shape == (18207, 77)"
   ]
  },
  {
   "cell_type": "markdown",
   "metadata": {},
   "source": [
    "# Data Cleaning"
   ]
  },
  {
   "cell_type": "markdown",
   "metadata": {},
   "source": [
    "## Handling missing values"
   ]
  },
  {
   "cell_type": "markdown",
   "metadata": {},
   "source": [
    "2.1. Build a dataframe called `missing` which has the following format:\n",
    "\n",
    "* `pct` is the percentage of missing values, **takes values between `0` and `100`**\n",
    "* the index is the column names\n",
    "\n",
    "|     | pct |\n",
    "|-----|-----|\n",
    "|......|.....|\n",
    "|Strength |0.263635|\n",
    "|.....|.....|\n",
    "\n"
   ]
  },
  {
   "cell_type": "code",
   "execution_count": 10,
   "metadata": {},
   "outputs": [
    {
     "name": "stdout",
     "output_type": "stream",
     "text": [
      "                         col         pct\n",
      "0                        Age           0\n",
      "1                    Overall           0\n",
      "2                  Potential           0\n",
      "3                      Value           0\n",
      "4                       Wage           0\n",
      "5                    Special           0\n",
      "6             Preferred Foot  0.00263635\n",
      "7   International Reputation  0.00263635\n",
      "8                  Weak Foot  0.00263635\n",
      "9                Skill Moves  0.00263635\n",
      "10                 Work Rate  0.00263635\n",
      "11                 Body Type  0.00263635\n",
      "12                  Position  0.00329544\n",
      "13             Jersey Number  0.00329544\n",
      "14                    Height  0.00263635\n",
      "15                    Weight  0.00263635\n",
      "16                        LS    0.114516\n",
      "17                        ST    0.114516\n",
      "18                        RS    0.114516\n",
      "19                        LW    0.114516\n",
      "20                        LF    0.114516\n",
      "21                        CF    0.114516\n",
      "22                        RF    0.114516\n",
      "23                        RW    0.114516\n",
      "24                       LAM    0.114516\n",
      "25                       CAM    0.114516\n",
      "26                       RAM    0.114516\n",
      "27                        LM    0.114516\n",
      "28                       LCM    0.114516\n",
      "29                        CM    0.114516\n",
      "..                       ...         ...\n",
      "47                 Dribbling  0.00263635\n",
      "48                     Curve  0.00263635\n",
      "49                FKAccuracy  0.00263635\n",
      "50               LongPassing  0.00263635\n",
      "51               BallControl  0.00263635\n",
      "52              Acceleration  0.00263635\n",
      "53               SprintSpeed  0.00263635\n",
      "54                   Agility  0.00263635\n",
      "55                 Reactions  0.00263635\n",
      "56                   Balance  0.00263635\n",
      "57                 ShotPower  0.00263635\n",
      "58                   Jumping  0.00263635\n",
      "59                   Stamina  0.00263635\n",
      "60                  Strength  0.00263635\n",
      "61                 LongShots  0.00263635\n",
      "62                Aggression  0.00263635\n",
      "63             Interceptions  0.00263635\n",
      "64               Positioning  0.00263635\n",
      "65                    Vision  0.00263635\n",
      "66                 Penalties  0.00263635\n",
      "67                 Composure  0.00263635\n",
      "68                   Marking  0.00263635\n",
      "69            StandingTackle  0.00263635\n",
      "70             SlidingTackle  0.00263635\n",
      "71                  GKDiving  0.00263635\n",
      "72                GKHandling  0.00263635\n",
      "73                 GKKicking  0.00263635\n",
      "74             GKPositioning  0.00263635\n",
      "75                GKReflexes  0.00263635\n",
      "76            Release Clause    0.085901\n",
      "\n",
      "[77 rows x 2 columns]\n"
     ]
    },
    {
     "data": {
      "text/html": [
       "<div>\n",
       "<style scoped>\n",
       "    .dataframe tbody tr th:only-of-type {\n",
       "        vertical-align: middle;\n",
       "    }\n",
       "\n",
       "    .dataframe tbody tr th {\n",
       "        vertical-align: top;\n",
       "    }\n",
       "\n",
       "    .dataframe thead th {\n",
       "        text-align: right;\n",
       "    }\n",
       "</style>\n",
       "<table border=\"1\" class=\"dataframe\">\n",
       "  <thead>\n",
       "    <tr style=\"text-align: right;\">\n",
       "      <th></th>\n",
       "      <th>col</th>\n",
       "      <th>pct</th>\n",
       "    </tr>\n",
       "  </thead>\n",
       "  <tbody>\n",
       "    <tr>\n",
       "      <th>0</th>\n",
       "      <td>Age</td>\n",
       "      <td>0</td>\n",
       "    </tr>\n",
       "    <tr>\n",
       "      <th>1</th>\n",
       "      <td>Overall</td>\n",
       "      <td>0</td>\n",
       "    </tr>\n",
       "    <tr>\n",
       "      <th>2</th>\n",
       "      <td>Potential</td>\n",
       "      <td>0</td>\n",
       "    </tr>\n",
       "    <tr>\n",
       "      <th>3</th>\n",
       "      <td>Value</td>\n",
       "      <td>0</td>\n",
       "    </tr>\n",
       "    <tr>\n",
       "      <th>4</th>\n",
       "      <td>Wage</td>\n",
       "      <td>0</td>\n",
       "    </tr>\n",
       "    <tr>\n",
       "      <th>5</th>\n",
       "      <td>Special</td>\n",
       "      <td>0</td>\n",
       "    </tr>\n",
       "    <tr>\n",
       "      <th>6</th>\n",
       "      <td>Preferred Foot</td>\n",
       "      <td>0.00263635</td>\n",
       "    </tr>\n",
       "    <tr>\n",
       "      <th>7</th>\n",
       "      <td>International Reputation</td>\n",
       "      <td>0.00263635</td>\n",
       "    </tr>\n",
       "    <tr>\n",
       "      <th>8</th>\n",
       "      <td>Weak Foot</td>\n",
       "      <td>0.00263635</td>\n",
       "    </tr>\n",
       "    <tr>\n",
       "      <th>9</th>\n",
       "      <td>Skill Moves</td>\n",
       "      <td>0.00263635</td>\n",
       "    </tr>\n",
       "    <tr>\n",
       "      <th>10</th>\n",
       "      <td>Work Rate</td>\n",
       "      <td>0.00263635</td>\n",
       "    </tr>\n",
       "    <tr>\n",
       "      <th>11</th>\n",
       "      <td>Body Type</td>\n",
       "      <td>0.00263635</td>\n",
       "    </tr>\n",
       "    <tr>\n",
       "      <th>12</th>\n",
       "      <td>Position</td>\n",
       "      <td>0.00329544</td>\n",
       "    </tr>\n",
       "    <tr>\n",
       "      <th>13</th>\n",
       "      <td>Jersey Number</td>\n",
       "      <td>0.00329544</td>\n",
       "    </tr>\n",
       "    <tr>\n",
       "      <th>14</th>\n",
       "      <td>Height</td>\n",
       "      <td>0.00263635</td>\n",
       "    </tr>\n",
       "    <tr>\n",
       "      <th>15</th>\n",
       "      <td>Weight</td>\n",
       "      <td>0.00263635</td>\n",
       "    </tr>\n",
       "    <tr>\n",
       "      <th>16</th>\n",
       "      <td>LS</td>\n",
       "      <td>0.114516</td>\n",
       "    </tr>\n",
       "    <tr>\n",
       "      <th>17</th>\n",
       "      <td>ST</td>\n",
       "      <td>0.114516</td>\n",
       "    </tr>\n",
       "    <tr>\n",
       "      <th>18</th>\n",
       "      <td>RS</td>\n",
       "      <td>0.114516</td>\n",
       "    </tr>\n",
       "    <tr>\n",
       "      <th>19</th>\n",
       "      <td>LW</td>\n",
       "      <td>0.114516</td>\n",
       "    </tr>\n",
       "    <tr>\n",
       "      <th>20</th>\n",
       "      <td>LF</td>\n",
       "      <td>0.114516</td>\n",
       "    </tr>\n",
       "    <tr>\n",
       "      <th>21</th>\n",
       "      <td>CF</td>\n",
       "      <td>0.114516</td>\n",
       "    </tr>\n",
       "    <tr>\n",
       "      <th>22</th>\n",
       "      <td>RF</td>\n",
       "      <td>0.114516</td>\n",
       "    </tr>\n",
       "    <tr>\n",
       "      <th>23</th>\n",
       "      <td>RW</td>\n",
       "      <td>0.114516</td>\n",
       "    </tr>\n",
       "    <tr>\n",
       "      <th>24</th>\n",
       "      <td>LAM</td>\n",
       "      <td>0.114516</td>\n",
       "    </tr>\n",
       "    <tr>\n",
       "      <th>25</th>\n",
       "      <td>CAM</td>\n",
       "      <td>0.114516</td>\n",
       "    </tr>\n",
       "    <tr>\n",
       "      <th>26</th>\n",
       "      <td>RAM</td>\n",
       "      <td>0.114516</td>\n",
       "    </tr>\n",
       "    <tr>\n",
       "      <th>27</th>\n",
       "      <td>LM</td>\n",
       "      <td>0.114516</td>\n",
       "    </tr>\n",
       "    <tr>\n",
       "      <th>28</th>\n",
       "      <td>LCM</td>\n",
       "      <td>0.114516</td>\n",
       "    </tr>\n",
       "    <tr>\n",
       "      <th>29</th>\n",
       "      <td>CM</td>\n",
       "      <td>0.114516</td>\n",
       "    </tr>\n",
       "    <tr>\n",
       "      <th>...</th>\n",
       "      <td>...</td>\n",
       "      <td>...</td>\n",
       "    </tr>\n",
       "    <tr>\n",
       "      <th>47</th>\n",
       "      <td>Dribbling</td>\n",
       "      <td>0.00263635</td>\n",
       "    </tr>\n",
       "    <tr>\n",
       "      <th>48</th>\n",
       "      <td>Curve</td>\n",
       "      <td>0.00263635</td>\n",
       "    </tr>\n",
       "    <tr>\n",
       "      <th>49</th>\n",
       "      <td>FKAccuracy</td>\n",
       "      <td>0.00263635</td>\n",
       "    </tr>\n",
       "    <tr>\n",
       "      <th>50</th>\n",
       "      <td>LongPassing</td>\n",
       "      <td>0.00263635</td>\n",
       "    </tr>\n",
       "    <tr>\n",
       "      <th>51</th>\n",
       "      <td>BallControl</td>\n",
       "      <td>0.00263635</td>\n",
       "    </tr>\n",
       "    <tr>\n",
       "      <th>52</th>\n",
       "      <td>Acceleration</td>\n",
       "      <td>0.00263635</td>\n",
       "    </tr>\n",
       "    <tr>\n",
       "      <th>53</th>\n",
       "      <td>SprintSpeed</td>\n",
       "      <td>0.00263635</td>\n",
       "    </tr>\n",
       "    <tr>\n",
       "      <th>54</th>\n",
       "      <td>Agility</td>\n",
       "      <td>0.00263635</td>\n",
       "    </tr>\n",
       "    <tr>\n",
       "      <th>55</th>\n",
       "      <td>Reactions</td>\n",
       "      <td>0.00263635</td>\n",
       "    </tr>\n",
       "    <tr>\n",
       "      <th>56</th>\n",
       "      <td>Balance</td>\n",
       "      <td>0.00263635</td>\n",
       "    </tr>\n",
       "    <tr>\n",
       "      <th>57</th>\n",
       "      <td>ShotPower</td>\n",
       "      <td>0.00263635</td>\n",
       "    </tr>\n",
       "    <tr>\n",
       "      <th>58</th>\n",
       "      <td>Jumping</td>\n",
       "      <td>0.00263635</td>\n",
       "    </tr>\n",
       "    <tr>\n",
       "      <th>59</th>\n",
       "      <td>Stamina</td>\n",
       "      <td>0.00263635</td>\n",
       "    </tr>\n",
       "    <tr>\n",
       "      <th>60</th>\n",
       "      <td>Strength</td>\n",
       "      <td>0.00263635</td>\n",
       "    </tr>\n",
       "    <tr>\n",
       "      <th>61</th>\n",
       "      <td>LongShots</td>\n",
       "      <td>0.00263635</td>\n",
       "    </tr>\n",
       "    <tr>\n",
       "      <th>62</th>\n",
       "      <td>Aggression</td>\n",
       "      <td>0.00263635</td>\n",
       "    </tr>\n",
       "    <tr>\n",
       "      <th>63</th>\n",
       "      <td>Interceptions</td>\n",
       "      <td>0.00263635</td>\n",
       "    </tr>\n",
       "    <tr>\n",
       "      <th>64</th>\n",
       "      <td>Positioning</td>\n",
       "      <td>0.00263635</td>\n",
       "    </tr>\n",
       "    <tr>\n",
       "      <th>65</th>\n",
       "      <td>Vision</td>\n",
       "      <td>0.00263635</td>\n",
       "    </tr>\n",
       "    <tr>\n",
       "      <th>66</th>\n",
       "      <td>Penalties</td>\n",
       "      <td>0.00263635</td>\n",
       "    </tr>\n",
       "    <tr>\n",
       "      <th>67</th>\n",
       "      <td>Composure</td>\n",
       "      <td>0.00263635</td>\n",
       "    </tr>\n",
       "    <tr>\n",
       "      <th>68</th>\n",
       "      <td>Marking</td>\n",
       "      <td>0.00263635</td>\n",
       "    </tr>\n",
       "    <tr>\n",
       "      <th>69</th>\n",
       "      <td>StandingTackle</td>\n",
       "      <td>0.00263635</td>\n",
       "    </tr>\n",
       "    <tr>\n",
       "      <th>70</th>\n",
       "      <td>SlidingTackle</td>\n",
       "      <td>0.00263635</td>\n",
       "    </tr>\n",
       "    <tr>\n",
       "      <th>71</th>\n",
       "      <td>GKDiving</td>\n",
       "      <td>0.00263635</td>\n",
       "    </tr>\n",
       "    <tr>\n",
       "      <th>72</th>\n",
       "      <td>GKHandling</td>\n",
       "      <td>0.00263635</td>\n",
       "    </tr>\n",
       "    <tr>\n",
       "      <th>73</th>\n",
       "      <td>GKKicking</td>\n",
       "      <td>0.00263635</td>\n",
       "    </tr>\n",
       "    <tr>\n",
       "      <th>74</th>\n",
       "      <td>GKPositioning</td>\n",
       "      <td>0.00263635</td>\n",
       "    </tr>\n",
       "    <tr>\n",
       "      <th>75</th>\n",
       "      <td>GKReflexes</td>\n",
       "      <td>0.00263635</td>\n",
       "    </tr>\n",
       "    <tr>\n",
       "      <th>76</th>\n",
       "      <td>Release Clause</td>\n",
       "      <td>0.085901</td>\n",
       "    </tr>\n",
       "  </tbody>\n",
       "</table>\n",
       "<p>77 rows × 2 columns</p>\n",
       "</div>"
      ],
      "text/plain": [
       "                         col         pct\n",
       "0                        Age           0\n",
       "1                    Overall           0\n",
       "2                  Potential           0\n",
       "3                      Value           0\n",
       "4                       Wage           0\n",
       "5                    Special           0\n",
       "6             Preferred Foot  0.00263635\n",
       "7   International Reputation  0.00263635\n",
       "8                  Weak Foot  0.00263635\n",
       "9                Skill Moves  0.00263635\n",
       "10                 Work Rate  0.00263635\n",
       "11                 Body Type  0.00263635\n",
       "12                  Position  0.00329544\n",
       "13             Jersey Number  0.00329544\n",
       "14                    Height  0.00263635\n",
       "15                    Weight  0.00263635\n",
       "16                        LS    0.114516\n",
       "17                        ST    0.114516\n",
       "18                        RS    0.114516\n",
       "19                        LW    0.114516\n",
       "20                        LF    0.114516\n",
       "21                        CF    0.114516\n",
       "22                        RF    0.114516\n",
       "23                        RW    0.114516\n",
       "24                       LAM    0.114516\n",
       "25                       CAM    0.114516\n",
       "26                       RAM    0.114516\n",
       "27                        LM    0.114516\n",
       "28                       LCM    0.114516\n",
       "29                        CM    0.114516\n",
       "..                       ...         ...\n",
       "47                 Dribbling  0.00263635\n",
       "48                     Curve  0.00263635\n",
       "49                FKAccuracy  0.00263635\n",
       "50               LongPassing  0.00263635\n",
       "51               BallControl  0.00263635\n",
       "52              Acceleration  0.00263635\n",
       "53               SprintSpeed  0.00263635\n",
       "54                   Agility  0.00263635\n",
       "55                 Reactions  0.00263635\n",
       "56                   Balance  0.00263635\n",
       "57                 ShotPower  0.00263635\n",
       "58                   Jumping  0.00263635\n",
       "59                   Stamina  0.00263635\n",
       "60                  Strength  0.00263635\n",
       "61                 LongShots  0.00263635\n",
       "62                Aggression  0.00263635\n",
       "63             Interceptions  0.00263635\n",
       "64               Positioning  0.00263635\n",
       "65                    Vision  0.00263635\n",
       "66                 Penalties  0.00263635\n",
       "67                 Composure  0.00263635\n",
       "68                   Marking  0.00263635\n",
       "69            StandingTackle  0.00263635\n",
       "70             SlidingTackle  0.00263635\n",
       "71                  GKDiving  0.00263635\n",
       "72                GKHandling  0.00263635\n",
       "73                 GKKicking  0.00263635\n",
       "74             GKPositioning  0.00263635\n",
       "75                GKReflexes  0.00263635\n",
       "76            Release Clause    0.085901\n",
       "\n",
       "[77 rows x 2 columns]"
      ]
     },
     "execution_count": 10,
     "metadata": {},
     "output_type": "execute_result"
    }
   ],
   "source": [
    "#missing = pd.DataFrame([(col,percentage) for col,percentage in (df.columns,(df[col].isna().sum()/len(df[col])))])\n",
    "missing = pd.DataFrame([df.columns,df.isnull().sum()/len(df)])\n",
    "#missing = pd.DataFrame([missing_val for missing_val in  ])\n",
    "missing = missing.T # transpose the df to get it in the right orientation\n",
    "missing.columns =['col','pct'] #rename columns\n",
    "print(missing)\n",
    "\n",
    "#missing = pd.DataFrame([df.isna().sum()/len(df),df.columns],columns=['pct','col'])\n",
    "missing"
   ]
  },
  {
   "cell_type": "markdown",
   "metadata": {},
   "source": [
    "2.2. Remove from `missing`, rows with `pct`= 0   \n",
    "sort `missing` in ascending order of `pct` and print its head"
   ]
  },
  {
   "cell_type": "code",
   "execution_count": 11,
   "metadata": {},
   "outputs": [
    {
     "data": {
      "text/html": [
       "<div>\n",
       "<style scoped>\n",
       "    .dataframe tbody tr th:only-of-type {\n",
       "        vertical-align: middle;\n",
       "    }\n",
       "\n",
       "    .dataframe tbody tr th {\n",
       "        vertical-align: top;\n",
       "    }\n",
       "\n",
       "    .dataframe thead th {\n",
       "        text-align: right;\n",
       "    }\n",
       "</style>\n",
       "<table border=\"1\" class=\"dataframe\">\n",
       "  <thead>\n",
       "    <tr style=\"text-align: right;\">\n",
       "      <th></th>\n",
       "      <th>col</th>\n",
       "      <th>pct</th>\n",
       "    </tr>\n",
       "  </thead>\n",
       "  <tbody>\n",
       "    <tr>\n",
       "      <th>6</th>\n",
       "      <td>Preferred Foot</td>\n",
       "      <td>0.00263635</td>\n",
       "    </tr>\n",
       "    <tr>\n",
       "      <th>60</th>\n",
       "      <td>Strength</td>\n",
       "      <td>0.00263635</td>\n",
       "    </tr>\n",
       "    <tr>\n",
       "      <th>59</th>\n",
       "      <td>Stamina</td>\n",
       "      <td>0.00263635</td>\n",
       "    </tr>\n",
       "    <tr>\n",
       "      <th>58</th>\n",
       "      <td>Jumping</td>\n",
       "      <td>0.00263635</td>\n",
       "    </tr>\n",
       "    <tr>\n",
       "      <th>57</th>\n",
       "      <td>ShotPower</td>\n",
       "      <td>0.00263635</td>\n",
       "    </tr>\n",
       "    <tr>\n",
       "      <th>56</th>\n",
       "      <td>Balance</td>\n",
       "      <td>0.00263635</td>\n",
       "    </tr>\n",
       "    <tr>\n",
       "      <th>55</th>\n",
       "      <td>Reactions</td>\n",
       "      <td>0.00263635</td>\n",
       "    </tr>\n",
       "    <tr>\n",
       "      <th>54</th>\n",
       "      <td>Agility</td>\n",
       "      <td>0.00263635</td>\n",
       "    </tr>\n",
       "    <tr>\n",
       "      <th>53</th>\n",
       "      <td>SprintSpeed</td>\n",
       "      <td>0.00263635</td>\n",
       "    </tr>\n",
       "    <tr>\n",
       "      <th>61</th>\n",
       "      <td>LongShots</td>\n",
       "      <td>0.00263635</td>\n",
       "    </tr>\n",
       "    <tr>\n",
       "      <th>52</th>\n",
       "      <td>Acceleration</td>\n",
       "      <td>0.00263635</td>\n",
       "    </tr>\n",
       "    <tr>\n",
       "      <th>50</th>\n",
       "      <td>LongPassing</td>\n",
       "      <td>0.00263635</td>\n",
       "    </tr>\n",
       "    <tr>\n",
       "      <th>75</th>\n",
       "      <td>GKReflexes</td>\n",
       "      <td>0.00263635</td>\n",
       "    </tr>\n",
       "    <tr>\n",
       "      <th>42</th>\n",
       "      <td>Crossing</td>\n",
       "      <td>0.00263635</td>\n",
       "    </tr>\n",
       "    <tr>\n",
       "      <th>43</th>\n",
       "      <td>Finishing</td>\n",
       "      <td>0.00263635</td>\n",
       "    </tr>\n",
       "    <tr>\n",
       "      <th>44</th>\n",
       "      <td>HeadingAccuracy</td>\n",
       "      <td>0.00263635</td>\n",
       "    </tr>\n",
       "    <tr>\n",
       "      <th>45</th>\n",
       "      <td>ShortPassing</td>\n",
       "      <td>0.00263635</td>\n",
       "    </tr>\n",
       "    <tr>\n",
       "      <th>46</th>\n",
       "      <td>Volleys</td>\n",
       "      <td>0.00263635</td>\n",
       "    </tr>\n",
       "    <tr>\n",
       "      <th>47</th>\n",
       "      <td>Dribbling</td>\n",
       "      <td>0.00263635</td>\n",
       "    </tr>\n",
       "    <tr>\n",
       "      <th>51</th>\n",
       "      <td>BallControl</td>\n",
       "      <td>0.00263635</td>\n",
       "    </tr>\n",
       "    <tr>\n",
       "      <th>62</th>\n",
       "      <td>Aggression</td>\n",
       "      <td>0.00263635</td>\n",
       "    </tr>\n",
       "    <tr>\n",
       "      <th>63</th>\n",
       "      <td>Interceptions</td>\n",
       "      <td>0.00263635</td>\n",
       "    </tr>\n",
       "    <tr>\n",
       "      <th>64</th>\n",
       "      <td>Positioning</td>\n",
       "      <td>0.00263635</td>\n",
       "    </tr>\n",
       "    <tr>\n",
       "      <th>7</th>\n",
       "      <td>International Reputation</td>\n",
       "      <td>0.00263635</td>\n",
       "    </tr>\n",
       "    <tr>\n",
       "      <th>8</th>\n",
       "      <td>Weak Foot</td>\n",
       "      <td>0.00263635</td>\n",
       "    </tr>\n",
       "    <tr>\n",
       "      <th>9</th>\n",
       "      <td>Skill Moves</td>\n",
       "      <td>0.00263635</td>\n",
       "    </tr>\n",
       "    <tr>\n",
       "      <th>10</th>\n",
       "      <td>Work Rate</td>\n",
       "      <td>0.00263635</td>\n",
       "    </tr>\n",
       "    <tr>\n",
       "      <th>11</th>\n",
       "      <td>Body Type</td>\n",
       "      <td>0.00263635</td>\n",
       "    </tr>\n",
       "    <tr>\n",
       "      <th>14</th>\n",
       "      <td>Height</td>\n",
       "      <td>0.00263635</td>\n",
       "    </tr>\n",
       "    <tr>\n",
       "      <th>15</th>\n",
       "      <td>Weight</td>\n",
       "      <td>0.00263635</td>\n",
       "    </tr>\n",
       "    <tr>\n",
       "      <th>...</th>\n",
       "      <td>...</td>\n",
       "      <td>...</td>\n",
       "    </tr>\n",
       "    <tr>\n",
       "      <th>49</th>\n",
       "      <td>FKAccuracy</td>\n",
       "      <td>0.00263635</td>\n",
       "    </tr>\n",
       "    <tr>\n",
       "      <th>13</th>\n",
       "      <td>Jersey Number</td>\n",
       "      <td>0.00329544</td>\n",
       "    </tr>\n",
       "    <tr>\n",
       "      <th>12</th>\n",
       "      <td>Position</td>\n",
       "      <td>0.00329544</td>\n",
       "    </tr>\n",
       "    <tr>\n",
       "      <th>76</th>\n",
       "      <td>Release Clause</td>\n",
       "      <td>0.085901</td>\n",
       "    </tr>\n",
       "    <tr>\n",
       "      <th>39</th>\n",
       "      <td>CB</td>\n",
       "      <td>0.114516</td>\n",
       "    </tr>\n",
       "    <tr>\n",
       "      <th>16</th>\n",
       "      <td>LS</td>\n",
       "      <td>0.114516</td>\n",
       "    </tr>\n",
       "    <tr>\n",
       "      <th>17</th>\n",
       "      <td>ST</td>\n",
       "      <td>0.114516</td>\n",
       "    </tr>\n",
       "    <tr>\n",
       "      <th>18</th>\n",
       "      <td>RS</td>\n",
       "      <td>0.114516</td>\n",
       "    </tr>\n",
       "    <tr>\n",
       "      <th>19</th>\n",
       "      <td>LW</td>\n",
       "      <td>0.114516</td>\n",
       "    </tr>\n",
       "    <tr>\n",
       "      <th>20</th>\n",
       "      <td>LF</td>\n",
       "      <td>0.114516</td>\n",
       "    </tr>\n",
       "    <tr>\n",
       "      <th>21</th>\n",
       "      <td>CF</td>\n",
       "      <td>0.114516</td>\n",
       "    </tr>\n",
       "    <tr>\n",
       "      <th>22</th>\n",
       "      <td>RF</td>\n",
       "      <td>0.114516</td>\n",
       "    </tr>\n",
       "    <tr>\n",
       "      <th>23</th>\n",
       "      <td>RW</td>\n",
       "      <td>0.114516</td>\n",
       "    </tr>\n",
       "    <tr>\n",
       "      <th>24</th>\n",
       "      <td>LAM</td>\n",
       "      <td>0.114516</td>\n",
       "    </tr>\n",
       "    <tr>\n",
       "      <th>25</th>\n",
       "      <td>CAM</td>\n",
       "      <td>0.114516</td>\n",
       "    </tr>\n",
       "    <tr>\n",
       "      <th>26</th>\n",
       "      <td>RAM</td>\n",
       "      <td>0.114516</td>\n",
       "    </tr>\n",
       "    <tr>\n",
       "      <th>27</th>\n",
       "      <td>LM</td>\n",
       "      <td>0.114516</td>\n",
       "    </tr>\n",
       "    <tr>\n",
       "      <th>28</th>\n",
       "      <td>LCM</td>\n",
       "      <td>0.114516</td>\n",
       "    </tr>\n",
       "    <tr>\n",
       "      <th>29</th>\n",
       "      <td>CM</td>\n",
       "      <td>0.114516</td>\n",
       "    </tr>\n",
       "    <tr>\n",
       "      <th>30</th>\n",
       "      <td>RCM</td>\n",
       "      <td>0.114516</td>\n",
       "    </tr>\n",
       "    <tr>\n",
       "      <th>31</th>\n",
       "      <td>RM</td>\n",
       "      <td>0.114516</td>\n",
       "    </tr>\n",
       "    <tr>\n",
       "      <th>32</th>\n",
       "      <td>LWB</td>\n",
       "      <td>0.114516</td>\n",
       "    </tr>\n",
       "    <tr>\n",
       "      <th>33</th>\n",
       "      <td>LDM</td>\n",
       "      <td>0.114516</td>\n",
       "    </tr>\n",
       "    <tr>\n",
       "      <th>34</th>\n",
       "      <td>CDM</td>\n",
       "      <td>0.114516</td>\n",
       "    </tr>\n",
       "    <tr>\n",
       "      <th>35</th>\n",
       "      <td>RDM</td>\n",
       "      <td>0.114516</td>\n",
       "    </tr>\n",
       "    <tr>\n",
       "      <th>36</th>\n",
       "      <td>RWB</td>\n",
       "      <td>0.114516</td>\n",
       "    </tr>\n",
       "    <tr>\n",
       "      <th>37</th>\n",
       "      <td>LB</td>\n",
       "      <td>0.114516</td>\n",
       "    </tr>\n",
       "    <tr>\n",
       "      <th>38</th>\n",
       "      <td>LCB</td>\n",
       "      <td>0.114516</td>\n",
       "    </tr>\n",
       "    <tr>\n",
       "      <th>40</th>\n",
       "      <td>RCB</td>\n",
       "      <td>0.114516</td>\n",
       "    </tr>\n",
       "    <tr>\n",
       "      <th>41</th>\n",
       "      <td>RB</td>\n",
       "      <td>0.114516</td>\n",
       "    </tr>\n",
       "  </tbody>\n",
       "</table>\n",
       "<p>71 rows × 2 columns</p>\n",
       "</div>"
      ],
      "text/plain": [
       "                         col         pct\n",
       "6             Preferred Foot  0.00263635\n",
       "60                  Strength  0.00263635\n",
       "59                   Stamina  0.00263635\n",
       "58                   Jumping  0.00263635\n",
       "57                 ShotPower  0.00263635\n",
       "56                   Balance  0.00263635\n",
       "55                 Reactions  0.00263635\n",
       "54                   Agility  0.00263635\n",
       "53               SprintSpeed  0.00263635\n",
       "61                 LongShots  0.00263635\n",
       "52              Acceleration  0.00263635\n",
       "50               LongPassing  0.00263635\n",
       "75                GKReflexes  0.00263635\n",
       "42                  Crossing  0.00263635\n",
       "43                 Finishing  0.00263635\n",
       "44           HeadingAccuracy  0.00263635\n",
       "45              ShortPassing  0.00263635\n",
       "46                   Volleys  0.00263635\n",
       "47                 Dribbling  0.00263635\n",
       "51               BallControl  0.00263635\n",
       "62                Aggression  0.00263635\n",
       "63             Interceptions  0.00263635\n",
       "64               Positioning  0.00263635\n",
       "7   International Reputation  0.00263635\n",
       "8                  Weak Foot  0.00263635\n",
       "9                Skill Moves  0.00263635\n",
       "10                 Work Rate  0.00263635\n",
       "11                 Body Type  0.00263635\n",
       "14                    Height  0.00263635\n",
       "15                    Weight  0.00263635\n",
       "..                       ...         ...\n",
       "49                FKAccuracy  0.00263635\n",
       "13             Jersey Number  0.00329544\n",
       "12                  Position  0.00329544\n",
       "76            Release Clause    0.085901\n",
       "39                        CB    0.114516\n",
       "16                        LS    0.114516\n",
       "17                        ST    0.114516\n",
       "18                        RS    0.114516\n",
       "19                        LW    0.114516\n",
       "20                        LF    0.114516\n",
       "21                        CF    0.114516\n",
       "22                        RF    0.114516\n",
       "23                        RW    0.114516\n",
       "24                       LAM    0.114516\n",
       "25                       CAM    0.114516\n",
       "26                       RAM    0.114516\n",
       "27                        LM    0.114516\n",
       "28                       LCM    0.114516\n",
       "29                        CM    0.114516\n",
       "30                       RCM    0.114516\n",
       "31                        RM    0.114516\n",
       "32                       LWB    0.114516\n",
       "33                       LDM    0.114516\n",
       "34                       CDM    0.114516\n",
       "35                       RDM    0.114516\n",
       "36                       RWB    0.114516\n",
       "37                        LB    0.114516\n",
       "38                       LCB    0.114516\n",
       "40                       RCB    0.114516\n",
       "41                        RB    0.114516\n",
       "\n",
       "[71 rows x 2 columns]"
      ]
     },
     "execution_count": 11,
     "metadata": {},
     "output_type": "execute_result"
    }
   ],
   "source": [
    "missing = missing[missing.pct != 0]\n",
    "missing.sort_values('pct', ascending = 1)"
   ]
  },
  {
   "cell_type": "markdown",
   "metadata": {},
   "source": [
    "2.3. Now, let's fill missing values where the % of missing is lower than 1 (1%).   \n",
    "First identify these columns in a list named `cols_to_fill`"
   ]
  },
  {
   "cell_type": "code",
   "execution_count": 12,
   "metadata": {},
   "outputs": [
    {
     "name": "stdout",
     "output_type": "stream",
     "text": [
      "44 <class 'list'>\n",
      "['Preferred Foot', 'International Reputation', 'Weak Foot', 'Skill Moves', 'Work Rate', 'Body Type', 'Position', 'Jersey Number', 'Height', 'Weight', 'Crossing', 'Finishing', 'HeadingAccuracy', 'ShortPassing', 'Volleys', 'Dribbling', 'Curve', 'FKAccuracy', 'LongPassing', 'BallControl', 'Acceleration', 'SprintSpeed', 'Agility', 'Reactions', 'Balance', 'ShotPower', 'Jumping', 'Stamina', 'Strength', 'LongShots', 'Aggression', 'Interceptions', 'Positioning', 'Vision', 'Penalties', 'Composure', 'Marking', 'StandingTackle', 'SlidingTackle', 'GKDiving', 'GKHandling', 'GKKicking', 'GKPositioning', 'GKReflexes']\n"
     ]
    }
   ],
   "source": [
    "# your code here\n",
    "cols_to_fill = missing.query('pct < 0.01').col.tolist()\n",
    "print(len(cols_to_fill), type(cols_to_fill))\n",
    "print(cols_to_fill)"
   ]
  },
  {
   "cell_type": "code",
   "execution_count": 13,
   "metadata": {},
   "outputs": [],
   "source": [
    "# check if your answer is correct\n",
    "assert len(cols_to_fill) == 44; assert isinstance(cols_to_fill, list)"
   ]
  },
  {
   "cell_type": "markdown",
   "metadata": {},
   "source": [
    "2.4. define a function (`fill_nas_by_type`) to fill null values by column type:\n",
    "\n",
    "* if a column type is `Object`, fill it with the **most frequent value**\n",
    "* otherwise, fill it with the **median value**"
   ]
  },
  {
   "cell_type": "code",
   "execution_count": 14,
   "metadata": {
    "code_folding": []
   },
   "outputs": [],
   "source": [
    "def fill_nas_by_type(df, col_name):\n",
    "    \"\"\"Fill null values in df according to col_name type\n",
    "    \n",
    "    Parameters\n",
    "    ----------\n",
    "    df : dataframe, (default=None)\n",
    "        input dataframe\n",
    "    col_name : str, (default=None)\n",
    "        column with null values to fill\n",
    "        \n",
    "    Returns\n",
    "    -------\n",
    "    df with filled values in col_name\n",
    "    \"\"\"\n",
    "    # your code here\n",
    "    if df[col_name].dtype == object:\n",
    "        mode = df[col_name].mode()\n",
    "        df[col_name] = df[col_name].fillna(mode[0])\n",
    "    else:\n",
    "        median = df[col_name].median()\n",
    "        df[col_name] = df[col_name].fillna(median)\n",
    "    return df"
   ]
  },
  {
   "cell_type": "markdown",
   "metadata": {},
   "source": [
    "Loop through `cols_to_fill` and apply the defined function `fill_nas_by_type` to fill null values"
   ]
  },
  {
   "cell_type": "code",
   "execution_count": 15,
   "metadata": {},
   "outputs": [],
   "source": [
    "for col in cols_to_fill:\n",
    "    #print(col)\n",
    "    df=fill_nas_by_type(df,col)"
   ]
  },
  {
   "cell_type": "code",
   "execution_count": 16,
   "metadata": {},
   "outputs": [],
   "source": [
    "# check if your answer is correct\n",
    "assert df[cols_to_fill].isnull().sum().sum() == 0"
   ]
  },
  {
   "cell_type": "markdown",
   "metadata": {},
   "source": [
    "For the remaining missing values, let's just remove them.    \n",
    "Print the shape of `df` before and after removing any rows with missing observations"
   ]
  },
  {
   "cell_type": "code",
   "execution_count": 17,
   "metadata": {},
   "outputs": [
    {
     "name": "stdout",
     "output_type": "stream",
     "text": [
      "(18207, 77)\n",
      "(14743, 77)\n"
     ]
    }
   ],
   "source": [
    "# your code here\n",
    "print(df.shape)\n",
    "\n",
    "df = df.dropna() #drops rows where na values appear\n",
    "\n",
    "print(df.shape)"
   ]
  },
  {
   "cell_type": "code",
   "execution_count": 18,
   "metadata": {},
   "outputs": [],
   "source": [
    "# check if your answer is correct\n",
    "assert df.shape == (14743, 77); assert df.isnull().sum().sum() == 0"
   ]
  },
  {
   "cell_type": "markdown",
   "metadata": {
    "heading_collapsed": true
   },
   "source": [
    "## Correct some columns format"
   ]
  },
  {
   "cell_type": "markdown",
   "metadata": {
    "hidden": true
   },
   "source": [
    "### Monetary columns"
   ]
  },
  {
   "cell_type": "code",
   "execution_count": 19,
   "metadata": {
    "hidden": true
   },
   "outputs": [
    {
     "data": {
      "text/html": [
       "<div>\n",
       "<style scoped>\n",
       "    .dataframe tbody tr th:only-of-type {\n",
       "        vertical-align: middle;\n",
       "    }\n",
       "\n",
       "    .dataframe tbody tr th {\n",
       "        vertical-align: top;\n",
       "    }\n",
       "\n",
       "    .dataframe thead th {\n",
       "        text-align: right;\n",
       "    }\n",
       "</style>\n",
       "<table border=\"1\" class=\"dataframe\">\n",
       "  <thead>\n",
       "    <tr style=\"text-align: right;\">\n",
       "      <th></th>\n",
       "      <th>Value</th>\n",
       "      <th>Wage</th>\n",
       "      <th>Release Clause</th>\n",
       "    </tr>\n",
       "  </thead>\n",
       "  <tbody>\n",
       "    <tr>\n",
       "      <th>0</th>\n",
       "      <td>€110.5M</td>\n",
       "      <td>€565K</td>\n",
       "      <td>€226.5M</td>\n",
       "    </tr>\n",
       "    <tr>\n",
       "      <th>1</th>\n",
       "      <td>€77M</td>\n",
       "      <td>€405K</td>\n",
       "      <td>€127.1M</td>\n",
       "    </tr>\n",
       "    <tr>\n",
       "      <th>2</th>\n",
       "      <td>€118.5M</td>\n",
       "      <td>€290K</td>\n",
       "      <td>€228.1M</td>\n",
       "    </tr>\n",
       "    <tr>\n",
       "      <th>4</th>\n",
       "      <td>€102M</td>\n",
       "      <td>€355K</td>\n",
       "      <td>€196.4M</td>\n",
       "    </tr>\n",
       "    <tr>\n",
       "      <th>5</th>\n",
       "      <td>€93M</td>\n",
       "      <td>€340K</td>\n",
       "      <td>€172.1M</td>\n",
       "    </tr>\n",
       "  </tbody>\n",
       "</table>\n",
       "</div>"
      ],
      "text/plain": [
       "     Value   Wage Release Clause\n",
       "0  €110.5M  €565K        €226.5M\n",
       "1     €77M  €405K        €127.1M\n",
       "2  €118.5M  €290K        €228.1M\n",
       "4    €102M  €355K        €196.4M\n",
       "5     €93M  €340K        €172.1M"
      ]
     },
     "execution_count": 19,
     "metadata": {},
     "output_type": "execute_result"
    }
   ],
   "source": [
    "money_cols = ['Value','Wage', 'Release Clause']\n",
    "df[money_cols].head()"
   ]
  },
  {
   "cell_type": "markdown",
   "metadata": {
    "hidden": true
   },
   "source": [
    "3.1. Build a function which extracts the monetary value from a string. It should return a number with no decimals.   \n",
    "Your function should pass the three tests in the cell after"
   ]
  },
  {
   "cell_type": "code",
   "execution_count": 20,
   "metadata": {
    "code_folding": [
     0
    ],
    "hidden": true
   },
   "outputs": [],
   "source": [
    "def get_value(value_text):\n",
    "    \"\"\"Extract the monetary value from a string\n",
    "    \n",
    "    Parameters\n",
    "    ----------\n",
    "    value_text: str, (default=None)\n",
    "        a string containing a number ending with M, K or nothing\n",
    "        \n",
    "    Returns\n",
    "    -------\n",
    "    a float with no decimals\n",
    "    \n",
    "    Examples\n",
    "    --------\n",
    "    >>> get_value('€7.1K')\n",
    "    7100.0\n",
    "    \"\"\"\n",
    "    multiplier = value_text[-1]\n",
    "    if multiplier == 'M':\n",
    "        number = float(value_text[1:-1])\n",
    "        return number * 1000000\n",
    "    elif multiplier == 'K':\n",
    "        number = float(value_text[1:-1])\n",
    "        return number * 1000\n",
    "    else:\n",
    "        return float(value_text[1:])\n"
   ]
  },
  {
   "cell_type": "code",
   "execution_count": 21,
   "metadata": {
    "hidden": true
   },
   "outputs": [],
   "source": [
    "# check if your answer is correct\n",
    "assert get_value('€110.5M') == 110500000; assert get_value('€7.1K') == 7100; assert get_value('€200') == 200"
   ]
  },
  {
   "cell_type": "markdown",
   "metadata": {
    "hidden": true
   },
   "source": [
    "3.2. Loop through `money_cols` and apply the defined function `get_value` to convert them to numeric"
   ]
  },
  {
   "cell_type": "code",
   "execution_count": 22,
   "metadata": {
    "hidden": true,
    "scrolled": false
   },
   "outputs": [
    {
     "name": "stdout",
     "output_type": "stream",
     "text": [
      "Value float64 0\n",
      "Wage float64 0\n",
      "Release Clause float64 0\n"
     ]
    }
   ],
   "source": [
    "for f in money_cols:\n",
    "    df[f] =df[f].apply(get_value)\n",
    "    print(f, df[f].dtype, df[f].isnull().sum())"
   ]
  },
  {
   "cell_type": "code",
   "execution_count": 23,
   "metadata": {
    "hidden": true
   },
   "outputs": [],
   "source": [
    "# check if your answer is correct\n",
    "assert df[money_cols].isnull().sum().sum() == 0"
   ]
  },
  {
   "cell_type": "markdown",
   "metadata": {
    "hidden": true
   },
   "source": [
    "### Height and Weight columns"
   ]
  },
  {
   "cell_type": "markdown",
   "metadata": {
    "hidden": true
   },
   "source": [
    "4.1. Start by printing the unique values for `Height`"
   ]
  },
  {
   "cell_type": "code",
   "execution_count": 24,
   "metadata": {
    "hidden": true
   },
   "outputs": [
    {
     "data": {
      "text/plain": [
       "array([\"5'7\", \"6'2\", \"5'9\", \"5'11\", \"5'8\", \"6'0\", \"5'6\", \"5'10\", \"6'1\",\n",
       "       \"5'4\", \"6'3\", \"6'4\", \"5'5\", \"6'6\", \"6'5\", \"5'3\", \"5'2\", \"6'7\",\n",
       "       \"5'1\", \"6'8\"], dtype=object)"
      ]
     },
     "execution_count": 24,
     "metadata": {},
     "output_type": "execute_result"
    }
   ],
   "source": [
    "# print unique values for Height\n",
    "df['Height'].unique()"
   ]
  },
  {
   "cell_type": "markdown",
   "metadata": {
    "hidden": true
   },
   "source": [
    "4.2. Write a function (`get_height`) which converts the Height from a string in feet to  a number in `cm` with no decimals.    \n",
    "1 feet = 30.48 cm. For example `get_height(\"5'10\")` = `155`"
   ]
  },
  {
   "cell_type": "code",
   "execution_count": 25,
   "metadata": {
    "hidden": true
   },
   "outputs": [],
   "source": [
    "def get_height(x):\n",
    "    return  round(float(x.replace(\"'\", \".\")) * 30.48, 0) "
   ]
  },
  {
   "cell_type": "code",
   "execution_count": 26,
   "metadata": {
    "hidden": true
   },
   "outputs": [],
   "source": [
    "# check if your answer is correct\n",
    "assert get_height(\"5'10\") == 155; assert get_height(\"6'8\") == 207"
   ]
  },
  {
   "cell_type": "markdown",
   "metadata": {
    "hidden": true
   },
   "source": [
    "Apply the previous defined function on `Height`"
   ]
  },
  {
   "cell_type": "code",
   "execution_count": 27,
   "metadata": {
    "hidden": true
   },
   "outputs": [],
   "source": [
    "df['Height'] = df['Height'].apply(get_height)"
   ]
  },
  {
   "cell_type": "code",
   "execution_count": 28,
   "metadata": {
    "hidden": true
   },
   "outputs": [],
   "source": [
    "# check if your answer is correct\n",
    "assert df['Height'].dtype == 'float64'; assert df['Height'].isnull().sum() == 0"
   ]
  },
  {
   "cell_type": "markdown",
   "metadata": {
    "hidden": true
   },
   "source": [
    "4.3. The same thing with `Weight`, print the unique values"
   ]
  },
  {
   "cell_type": "code",
   "execution_count": 29,
   "metadata": {
    "hidden": true
   },
   "outputs": [
    {
     "data": {
      "text/plain": [
       "array(['159lbs', '183lbs', '150lbs', '154lbs', '163lbs', '146lbs',\n",
       "       '190lbs', '181lbs', '176lbs', '168lbs', '172lbs', '148lbs',\n",
       "       '165lbs', '196lbs', '161lbs', '170lbs', '187lbs', '157lbs',\n",
       "       '185lbs', '130lbs', '174lbs', '203lbs', '207lbs', '134lbs',\n",
       "       '141lbs', '152lbs', '179lbs', '132lbs', '198lbs', '201lbs',\n",
       "       '209lbs', '214lbs', '143lbs', '192lbs', '137lbs', '194lbs',\n",
       "       '139lbs', '220lbs', '205lbs', '216lbs', '126lbs', '123lbs',\n",
       "       '128lbs', '223lbs', '212lbs', '121lbs', '115lbs', '218lbs',\n",
       "       '117lbs', '243lbs', '110lbs', '119lbs', '234lbs'], dtype=object)"
      ]
     },
     "execution_count": 29,
     "metadata": {},
     "output_type": "execute_result"
    }
   ],
   "source": [
    "# print unique values for Weight\n",
    "df['Weight'].unique()"
   ]
  },
  {
   "cell_type": "markdown",
   "metadata": {
    "hidden": true
   },
   "source": [
    "4.4. Write a function (`get_weight`) which converts the **Weight** from a string in `lbs` to a number in `kg` with no decimals.    \n",
    "1 lbs = 0.453592 kg. For example `get_weight(\"115lbs\")` = `52`"
   ]
  },
  {
   "cell_type": "code",
   "execution_count": 30,
   "metadata": {
    "hidden": true
   },
   "outputs": [],
   "source": [
    "def get_weight(x):\n",
    "    return  round(float(x.split('lbs')[0]) * 0.453592, 0)"
   ]
  },
  {
   "cell_type": "code",
   "execution_count": 31,
   "metadata": {
    "hidden": true
   },
   "outputs": [],
   "source": [
    "# check if your answer is correct\n",
    "assert get_weight(\"115lbs\") == 52; assert get_weight(\"234lbs\") == 106"
   ]
  },
  {
   "cell_type": "markdown",
   "metadata": {
    "hidden": true
   },
   "source": [
    "Apply the previous defined function on `Weight`"
   ]
  },
  {
   "cell_type": "code",
   "execution_count": 32,
   "metadata": {
    "hidden": true
   },
   "outputs": [],
   "source": [
    "df['Weight'] = df['Weight'].apply(get_weight)"
   ]
  },
  {
   "cell_type": "code",
   "execution_count": 33,
   "metadata": {
    "hidden": true
   },
   "outputs": [
    {
     "data": {
      "text/plain": [
       "(14743, 77)"
      ]
     },
     "execution_count": 33,
     "metadata": {},
     "output_type": "execute_result"
    }
   ],
   "source": [
    "# check if your answer is correct\n",
    "assert df['Weight'].dtype == 'float64'; assert df['Weight'].isnull().sum() == 0\n",
    "df.shape"
   ]
  },
  {
   "cell_type": "markdown",
   "metadata": {},
   "source": [
    "## Convert text columns to numeric"
   ]
  },
  {
   "cell_type": "markdown",
   "metadata": {},
   "source": [
    "5.1. Identify non-numeric text columns in a list called `text_cols`"
   ]
  },
  {
   "cell_type": "code",
   "execution_count": 34,
   "metadata": {},
   "outputs": [
    {
     "name": "stdout",
     "output_type": "stream",
     "text": [
      "30\n"
     ]
    }
   ],
   "source": [
    "# your code here\n",
    "text_cols = []\n",
    "for col in df.columns:\n",
    "    if df[col].dtype== object:\n",
    "        text_cols.append(col)\n",
    "\n",
    "print(len(text_cols))"
   ]
  },
  {
   "cell_type": "markdown",
   "metadata": {},
   "source": [
    "5.2. Build a list named `cols_to_remove` containing columns from `text_cols`, if a column has a number of unique values greater than **10** (`> 10`)"
   ]
  },
  {
   "cell_type": "code",
   "execution_count": 35,
   "metadata": {},
   "outputs": [
    {
     "name": "stdout",
     "output_type": "stream",
     "text": [
      "27\n"
     ]
    }
   ],
   "source": [
    "# your code here\n",
    "cols_to_remove = []\n",
    "for col in text_cols:\n",
    "    if len(df[col].unique()) > 10:\n",
    "        cols_to_remove.append(col)\n",
    "print(len(cols_to_remove))"
   ]
  },
  {
   "cell_type": "markdown",
   "metadata": {},
   "source": [
    "remove `cols_to_remove` columns from `df` and print its shape"
   ]
  },
  {
   "cell_type": "code",
   "execution_count": 36,
   "metadata": {},
   "outputs": [
    {
     "name": "stdout",
     "output_type": "stream",
     "text": [
      "(14743, 50)\n"
     ]
    }
   ],
   "source": [
    "df = df.drop(cols_to_remove,axis=1,inplace=False)\n",
    "print(df.shape)"
   ]
  },
  {
   "cell_type": "code",
   "execution_count": 37,
   "metadata": {},
   "outputs": [],
   "source": [
    "# check if your answer is correct\n",
    "assert df.shape == (14743, 50)"
   ]
  },
  {
   "cell_type": "markdown",
   "metadata": {},
   "source": [
    "5.3. Identify the remaining text columns in `text_cols` as `remaining_text_cols`, make sur it passes the test after"
   ]
  },
  {
   "cell_type": "code",
   "execution_count": 38,
   "metadata": {},
   "outputs": [
    {
     "name": "stdout",
     "output_type": "stream",
     "text": [
      "3\n"
     ]
    }
   ],
   "source": [
    "# your code here\n",
    "remaining_text_cols = [x for x in text_cols if x  not in cols_to_remove ]\n",
    "print(len(remaining_text_cols))"
   ]
  },
  {
   "cell_type": "code",
   "execution_count": 39,
   "metadata": {},
   "outputs": [],
   "source": [
    "# check if your answer is correct\n",
    "assert remaining_text_cols == ['Preferred Foot', 'Work Rate', 'Body Type']"
   ]
  },
  {
   "cell_type": "markdown",
   "metadata": {},
   "source": [
    "5.4. Loop through `remaining_text_cols` and convert them to numerical values"
   ]
  },
  {
   "cell_type": "code",
   "execution_count": 40,
   "metadata": {},
   "outputs": [
    {
     "name": "stdout",
     "output_type": "stream",
     "text": [
      "       Preferred Foot  Work Rate  Body Type\n",
      "0                   0          5          1\n",
      "1                   1          7          2\n",
      "2                   1          8          3\n",
      "4                   1          9          4\n",
      "5                   1          8          4\n",
      "6                   1          9          5\n",
      "7                   1          8          4\n",
      "8                   1          8          4\n",
      "10                  1          8          4\n",
      "11                  1          5          4\n",
      "12                  1          6          5\n",
      "13                  0          8          4\n",
      "14                  1          6          5\n",
      "15                  0          8          4\n",
      "16                  1          9          4\n",
      "17                  0          9          5\n",
      "20                  1          5          5\n",
      "21                  1          9          5\n",
      "23                  1          8          6\n",
      "24                  0          6          4\n",
      "25                  1          8          5\n",
      "26                  0          8          7\n",
      "27                  1          6          4\n",
      "29                  1          8          4\n",
      "30                  1          8          4\n",
      "31                  1          8          5\n",
      "32                  1          9          4\n",
      "33                  1          4          5\n",
      "34                  1          8          4\n",
      "35                  0          7          4\n",
      "...               ...        ...        ...\n",
      "18171               1          4          4\n",
      "18173               1          5          4\n",
      "18174               1          5          5\n",
      "18175               0          5          5\n",
      "18176               1          8          5\n",
      "18177               1          5          5\n",
      "18179               1          5          5\n",
      "18181               1          5          5\n",
      "18182               1          2          5\n",
      "18184               1          5          4\n",
      "18185               1          5          4\n",
      "18186               1          5          4\n",
      "18187               1          8          5\n",
      "18188               1          5          5\n",
      "18189               1          5          5\n",
      "18190               1          5          4\n",
      "18191               0          6          5\n",
      "18192               1          2          5\n",
      "18193               1          5          5\n",
      "18195               1          5          4\n",
      "18196               1          5          5\n",
      "18197               1          5          4\n",
      "18199               1          6          5\n",
      "18200               0          5          5\n",
      "18201               0          5          5\n",
      "18202               1          5          5\n",
      "18203               1          5          4\n",
      "18204               1          5          4\n",
      "18205               1          5          5\n",
      "18206               1          5          5\n",
      "\n",
      "[14743 rows x 3 columns]\n"
     ]
    }
   ],
   "source": [
    "pref_foot_dict = { 'Left': 0, 'Right': 1}\n",
    "work_rate_dict = {'High/ High': 9,'High/ Medium': 8, 'High/ Low': 7 ,'Medium/ High': 6, 'Medium/ Medium': 5, 'Medium/ Low': 4,'Low/ High':3 , 'Low/ Medium':2, 'Low/ Low':1}\n",
    "body_type_dict = {'Messi': 1, 'C. Ronaldo': 2, 'Neymar': 3, 'Normal': 4, 'Lean': 5 ,'Stocky': 6,'PLAYER_BODY_TYPE_25': 7, 'Shaqiri': 8, 'Akinfenwa':9}\n",
    "\n",
    "for key,val in pref_foot_dict.items():\n",
    "    df['Preferred Foot'].replace(key,val,inplace=True)\n",
    "\n",
    "for key,val in work_rate_dict.items():\n",
    "    df['Work Rate'].replace(key,val,inplace=True)\n",
    "\n",
    "for key,val in body_type_dict.items():\n",
    "    df['Body Type'].replace(key,val,inplace=True)\n",
    "    \n",
    "print(df[remaining_text_cols])"
   ]
  },
  {
   "cell_type": "code",
   "execution_count": 41,
   "metadata": {},
   "outputs": [
    {
     "data": {
      "text/plain": [
       "(14743, 50)"
      ]
     },
     "execution_count": 41,
     "metadata": {},
     "output_type": "execute_result"
    }
   ],
   "source": [
    "df.shape"
   ]
  },
  {
   "cell_type": "markdown",
   "metadata": {},
   "source": [
    "# Model building"
   ]
  },
  {
   "cell_type": "markdown",
   "metadata": {},
   "source": [
    "As stated before, you can do this part without completing the previous one"
   ]
  },
  {
   "cell_type": "markdown",
   "metadata": {},
   "source": [
    "6.1. Load the cleaned dataset `Assignment_2_data_cleaned.csv` into `df_clean` and print its shape.    "
   ]
  },
  {
   "cell_type": "code",
   "execution_count": 42,
   "metadata": {},
   "outputs": [
    {
     "name": "stdout",
     "output_type": "stream",
     "text": [
      "(14743, 50)\n"
     ]
    }
   ],
   "source": [
    "df_clean = pd.read_csv(\"Assignment_2_data_cleaned.csv\")\n",
    "print(df_clean.shape)"
   ]
  },
  {
   "cell_type": "markdown",
   "metadata": {},
   "source": [
    "6.2. Load the target variable `Overall` into a dataframe and name it `y`. Then, load the features into a second dataframe and name it `X`. Plot a histogram of `y`, choose the number of bins as 100."
   ]
  },
  {
   "cell_type": "code",
   "execution_count": 43,
   "metadata": {},
   "outputs": [
    {
     "data": {
      "text/plain": [
       "(array([  1.,   0.,  18.,   0.,  26.,   0.,  28.,   0.,  73.,   0., 104.,\n",
       "          0., 118.,   0., 148.,   0., 190.,   0., 199.,   0., 261.,   0.,\n",
       "        313.,   0.,   0., 344.,   0., 424.,   0., 514.,   0., 585.,   0.,\n",
       "        690.,   0., 809.,   0., 913.,   0., 837.,   0., 953.,   0., 933.,\n",
       "          0., 829.,   0., 778.,   0.,   0., 742.,   0., 640.,   0., 613.,\n",
       "          0., 492.,   0., 434.,   0., 407.,   0., 311.,   0., 258.,   0.,\n",
       "        139.,   0., 147.,   0., 117.,   0.,  85.,   0.,   0.,  82.,   0.,\n",
       "         55.,   0.,  38.,   0.,  30.,   0.,  21.,   0.,  12.,   0.,  12.,\n",
       "          0.,   8.,   0.,   4.,   0.,   5.,   0.,   1.,   0.,   0.,   0.,\n",
       "          2.]),\n",
       " array([46.  , 46.48, 46.96, 47.44, 47.92, 48.4 , 48.88, 49.36, 49.84,\n",
       "        50.32, 50.8 , 51.28, 51.76, 52.24, 52.72, 53.2 , 53.68, 54.16,\n",
       "        54.64, 55.12, 55.6 , 56.08, 56.56, 57.04, 57.52, 58.  , 58.48,\n",
       "        58.96, 59.44, 59.92, 60.4 , 60.88, 61.36, 61.84, 62.32, 62.8 ,\n",
       "        63.28, 63.76, 64.24, 64.72, 65.2 , 65.68, 66.16, 66.64, 67.12,\n",
       "        67.6 , 68.08, 68.56, 69.04, 69.52, 70.  , 70.48, 70.96, 71.44,\n",
       "        71.92, 72.4 , 72.88, 73.36, 73.84, 74.32, 74.8 , 75.28, 75.76,\n",
       "        76.24, 76.72, 77.2 , 77.68, 78.16, 78.64, 79.12, 79.6 , 80.08,\n",
       "        80.56, 81.04, 81.52, 82.  , 82.48, 82.96, 83.44, 83.92, 84.4 ,\n",
       "        84.88, 85.36, 85.84, 86.32, 86.8 , 87.28, 87.76, 88.24, 88.72,\n",
       "        89.2 , 89.68, 90.16, 90.64, 91.12, 91.6 , 92.08, 92.56, 93.04,\n",
       "        93.52, 94.  ]),\n",
       " <a list of 100 Patch objects>)"
      ]
     },
     "execution_count": 43,
     "metadata": {},
     "output_type": "execute_result"
    },
    {
     "data": {
      "image/png": "[encoded data removed]",
      "text/plain": [
       "<Figure size 432x288 with 1 Axes>"
      ]
     },
     "metadata": {
      "needs_background": "light"
     },
     "output_type": "display_data"
    }
   ],
   "source": [
    "\n",
    "y = df['Overall']\n",
    "X = df.drop('Overall',axis=1,inplace= False)\n",
    "\n",
    "plt.hist(y,bins=100)"
   ]
  },
  {
   "cell_type": "markdown",
   "metadata": {},
   "source": [
    "7. Split the data set into a training set and a test set. Choose `test_size` = 0.3 and `random_state` = 123  \n",
    "Print train and test size      \n",
    "**Attention**: You are asked to use  [`sklearn.model_selection`](https://scikit-learn.org/stable/modules/generated/sklearn.model_selection.train_test_split.html)"
   ]
  },
  {
   "cell_type": "code",
   "execution_count": 44,
   "metadata": {},
   "outputs": [
    {
     "name": "stdout",
     "output_type": "stream",
     "text": [
      "train size : 10320\n",
      "test size : 4423\n"
     ]
    }
   ],
   "source": [
    "# your code here\n",
    "from sklearn.model_selection import train_test_split\n",
    "X_train,X_test,y_train ,y_test = train_test_split(X,y, test_size = 0.3, random_state = 123)\n",
    "print(\"train size :\", len(X_train))\n",
    "print(\"test size :\",len(X_test))"
   ]
  },
  {
   "cell_type": "markdown",
   "metadata": {},
   "source": [
    "8. Fit a linear model to the training set, and then report the training and testing errors obtained (the R2 statistic).   \n",
    "Calculate and print the following metrics: mse, rmse, mae for the test_set"
   ]
  },
  {
   "cell_type": "code",
   "execution_count": 45,
   "metadata": {},
   "outputs": [
    {
     "name": "stdout",
     "output_type": "stream",
     "text": [
      "Train score : 0.9368939211949172\n",
      "Test score : 0.936075846877686\n"
     ]
    }
   ],
   "source": [
    "from sklearn.linear_model import LinearRegression\n",
    "\n",
    "reg = LinearRegression()\n",
    "reg.fit(X_train,y_train)\n",
    "\n",
    "train_score = reg.score(X_train,y_train)\n",
    "test_score = reg.score(X_test,y_test)\n",
    "\n",
    "print(\"Train score :\",train_score)\n",
    "print(\"Test score :\",test_score)\n",
    "\n"
   ]
  },
  {
   "cell_type": "code",
   "execution_count": 46,
   "metadata": {},
   "outputs": [
    {
     "name": "stdout",
     "output_type": "stream",
     "text": [
      "Mean squared error : 2.990712811089919\n",
      "Root mean squared error : 1.7293677489446595\n",
      "Mean absolute error : 1.3513544282534065\n"
     ]
    }
   ],
   "source": [
    "from sklearn.metrics import mean_squared_error\n",
    "from sklearn.metrics import mean_absolute_error\n",
    "import math\n",
    "\n",
    "y_pred = reg.predict(X_test)\n",
    "mse = mean_squared_error(y_test,y_pred)\n",
    "rmse = math.sqrt(mse) # ?? probably not good formula...\n",
    "mae = mean_absolute_error(y_test,y_pred)\n",
    "\n",
    "print(\"Mean squared error :\",mse)\n",
    "print(\"Root mean squared error :\",rmse)\n",
    "print(\"Mean absolute error :\",mae)"
   ]
  },
  {
   "cell_type": "markdown",
   "metadata": {},
   "source": [
    "### Check residuals"
   ]
  },
  {
   "cell_type": "markdown",
   "metadata": {},
   "source": [
    "9.1. Plot a histogram of the residuals (difference between `y_test` and `y_pred`"
   ]
  },
  {
   "cell_type": "code",
   "execution_count": 47,
   "metadata": {},
   "outputs": [
    {
     "data": {
      "image/png": "[encoded data removed]",
      "text/plain": [
       "<Figure size 432x288 with 1 Axes>"
      ]
     },
     "metadata": {
      "needs_background": "light"
     },
     "output_type": "display_data"
    },
    {
     "data": {
      "image/png": "[encoded data removed]",
      "text/plain": [
       "<Figure size 432x288 with 1 Axes>"
      ]
     },
     "metadata": {
      "needs_background": "light"
     },
     "output_type": "display_data"
    }
   ],
   "source": [
    "resid = y_pred - y_test\n",
    "\n",
    "plt.hist(resid,bins=100)\n",
    "plt.xlabel(\"residual\")\n",
    "plt.ylabel(\"frequency\")\n",
    "plt.show()\n",
    "plt.scatter(y_test, resid)\n",
    "plt.xlabel(\"y_test\")\n",
    "plt.ylabel(\"residual\")\n",
    "plt.show()"
   ]
  },
  {
   "cell_type": "markdown",
   "metadata": {},
   "source": [
    "9.2. Plot a scatter plot where `y_test` is in the **x** axis and  `y_pred` is in the **y** axis"
   ]
  },
  {
   "cell_type": "code",
   "execution_count": 48,
   "metadata": {},
   "outputs": [
    {
     "data": {
      "text/plain": [
       "<matplotlib.collections.PathCollection at 0x17be83c9b70>"
      ]
     },
     "execution_count": 48,
     "metadata": {},
     "output_type": "execute_result"
    },
    {
     "data": {
      "image/png": "[encoded data removed]",
      "text/plain": [
       "<Figure size 432x288 with 1 Axes>"
      ]
     },
     "metadata": {
      "needs_background": "light"
     },
     "output_type": "display_data"
    }
   ],
   "source": [
    "plt.scatter(y_test,y_pred, alpha = 0.5)"
   ]
  },
  {
   "cell_type": "markdown",
   "metadata": {},
   "source": [
    "10. Try to improve the performance of your model, by adding new features"
   ]
  },
  {
   "cell_type": "code",
   "execution_count": 49,
   "metadata": {},
   "outputs": [],
   "source": [
    "#will 'stretch' a feature depending on the number of unique values present in the column\n",
    "def feature_stretch(col,df):\n",
    "    #for each unique value in that column\n",
    "    for unique_val in df[col].unique():\n",
    "        #create a new column just for that value\n",
    "        unique_name = col + \"_is_\" + str(unique_val)\n",
    "        df[unique_name] = np.where(df[col] == unique_val,1,0)\n",
    "    df.drop(col,axis=1,inplace=True)\n",
    "    return df\n",
    "\n",
    "def split_train_test(df):\n",
    "    from sklearn.model_selection import train_test_split\n",
    "    X = df.drop(\"Overall\",axis=1)\n",
    "    y = df[\"Overall\"]\n",
    "    X_train,X_test,y_train ,y_test = train_test_split(X,y, test_size = 0.3, random_state = 123)\n",
    "    return X_train,X_test,y_train,y_test"
   ]
  },
  {
   "cell_type": "code",
   "execution_count": 50,
   "metadata": {},
   "outputs": [],
   "source": [
    "#feature engineering to stretch some features that will improve our model performance\n",
    "df = feature_stretch(\"Age\",df) #age has the most impact on model improvement (around 3%)\n",
    "df = feature_stretch(\"Preferred Foot\",df)\n",
    "df = feature_stretch(\"Work Rate\",df)"
   ]
  },
  {
   "cell_type": "code",
   "execution_count": 54,
   "metadata": {},
   "outputs": [
    {
     "name": "stdout",
     "output_type": "stream",
     "text": [
      "Train score : 0.9368939211949172\n",
      "Test score : 0.936075846877686\n",
      "Train score improved : 0.964221204935821\n",
      "Test score improved : 0.9629465109190063\n",
      "delta train improvement = 0.027327283740903763\n",
      "delta test improvement = 0.026870664041320325\n"
     ]
    }
   ],
   "source": [
    "\n",
    "from sklearn.linear_model import LinearRegression\n",
    "\n",
    "X_train,X_test,y_train,y_test = split_train_test(df)\n",
    "\n",
    "reg = LinearRegression()\n",
    "reg.fit(X_train,y_train)\n",
    "\n",
    "print(\"Train score :\",train_score)\n",
    "print(\"Test score :\",test_score)\n",
    "\n",
    "train_score_improved = reg.score(X_train,y_train)\n",
    "test_score_improved = reg.score(X_test,y_test)\n",
    "\n",
    "print(\"Train score improved :\",train_score_improved)\n",
    "print(\"Test score improved :\",test_score_improved)\n",
    "\n",
    "delta_train = (train_score_improved - train_score)\n",
    "delta_test = (test_score_improved - test_score)\n",
    "\n",
    "print(\"delta train improvement =\",delta_train)\n",
    "print(\"delta test improvement =\",delta_test)\n"
   ]
  },
  {
   "cell_type": "code",
   "execution_count": 52,
   "metadata": {},
   "outputs": [
    {
     "name": "stdout",
     "output_type": "stream",
     "text": [
      "Ridge train score = 0.9642212049161398\n",
      "Ridge test score =  0.9629466056799557\n",
      "delta ridge train improvement = 0.027327283721222617\n",
      "delta ridge test improvement = 0.026870758802269745\n",
      "Lasso train score = 0.8937386102996726\n",
      "Lasso test score =  0.8967710018626636\n"
     ]
    }
   ],
   "source": [
    "#testing out lasso and ridge\n",
    "from sklearn.linear_model import Ridge\n",
    "from sklearn.linear_model import Lasso\n",
    "\n",
    "ridge = Ridge(alpha = 0.0)\n",
    "ridge.fit(X_train,y_train)\n",
    "\n",
    "train_score_ridge = ridge.score(X_train, y_train)\n",
    "test_score_ridge = ridge.score(X_test, y_test)\n",
    "\n",
    "\n",
    "print  ('Ridge train score =', train_score_ridge)\n",
    "print  ('Ridge test score = ', test_score_ridge)\n",
    "\n",
    "delta_train = (train_score_ridge - train_score)\n",
    "delta_test = (test_score_ridge - test_score)\n",
    "\n",
    "print(\"delta ridge train improvement =\",delta_train)\n",
    "print(\"delta ridge test improvement =\",delta_test)\n",
    "\n",
    "\n",
    "lasso = Lasso(alpha = 1.0)\n",
    "lasso.fit(X_train,y_train)\n",
    "\n",
    "\n",
    "train_score_lasso = lasso.score(X_train, y_train)\n",
    "test_score_lasso = lasso.score(X_test, y_test)\n",
    "\n",
    "print  ('Lasso train score =', train_score_lasso)\n",
    "print  ('Lasso test score = ', test_score_lasso) \n",
    "\n",
    "\n"
   ]
  },
  {
   "cell_type": "markdown",
   "metadata": {},
   "source": [
    "The improvement from using ridge and lassso is very minimal, feature engineering gives much better results"
   ]
  },
  {
   "cell_type": "code",
   "execution_count": null,
   "metadata": {},
   "outputs": [],
   "source": []
  }
 ],
 "metadata": {
  "anaconda-cloud": {},
  "kernelspec": {
   "display_name": "Python 2",
   "language": "python",
   "name": "python2"
  },
  "language_info": {
   "codemirror_mode": {
    "name": "ipython",
    "version": 2
   },
   "file_extension": ".py",
   "mimetype": "text/x-python",
   "name": "python",
   "nbconvert_exporter": "python",
   "pygments_lexer": "ipython2",
   "version": "2.7.15+"
  }
 },
 "nbformat": 4,
 "nbformat_minor": 2
}
